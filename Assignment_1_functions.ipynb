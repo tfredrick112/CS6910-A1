{
  "nbformat": 4,
  "nbformat_minor": 0,
  "metadata": {
    "colab": {
      "name": "Assignment_1_functions.ipynb",
      "provenance": [],
      "collapsed_sections": []
    },
    "kernelspec": {
      "display_name": "Python 3",
      "language": "python",
      "name": "python3"
    },
    "language_info": {
      "codemirror_mode": {
        "name": "ipython",
        "version": 3
      },
      "file_extension": ".py",
      "mimetype": "text/x-python",
      "name": "python",
      "nbconvert_exporter": "python",
      "pygments_lexer": "ipython3",
      "version": "3.7.1"
    }
  },
  "cells": [
    {
      "cell_type": "markdown",
      "metadata": {
        "id": "87MCURqCtX_z"
      },
      "source": [
        "# Importing Libraries and Downloading Data"
      ]
    },
    {
      "cell_type": "markdown",
      "metadata": {
        "id": "uPc_chlwW-SQ"
      },
      "source": [
        "#### Import libraries"
      ]
    },
    {
      "cell_type": "code",
      "metadata": {
        "id": "yFHth0FqepJf"
      },
      "source": [
        "import numpy as np\n",
        "import pandas as pd\n",
        "import matplotlib.pyplot as plt\n",
        "from keras.datasets import mnist\n",
        "from sklearn.model_selection import train_test_split\n",
        "from sklearn.metrics import classification_report, accuracy_score, confusion_matrix\n",
        "import warnings\n",
        "warnings.filterwarnings(\"ignore\")\n",
        "#import wandb\n",
        "import seaborn as sns"
      ],
      "execution_count": 1,
      "outputs": []
    },
    {
      "cell_type": "markdown",
      "metadata": {
        "id": "3JTMduhnXH-I"
      },
      "source": [
        "#### Download data"
      ]
    },
    {
      "cell_type": "code",
      "metadata": {
        "id": "SVsYdhDPfD7F",
        "colab": {
          "base_uri": "https://localhost:8080/"
        },
        "outputId": "d01edd7f-5dbc-4f8d-cf35-26b75f4ba872"
      },
      "source": [
        "(X, y), (X_test, y_test) = mnist.load_data()\r\n",
        "\r\n",
        "# Reshaping the data matrices\r\n",
        "X = X.reshape(X.shape[0], 784)\r\n",
        "X_test = X_test.reshape(X_test.shape[0], 784)\r\n",
        "\r\n",
        "# Normalizing the pixel intensities\r\n",
        "X = X/255.0\r\n",
        "X_test = X_test/255.0\r\n",
        "\r\n",
        "# Split the X_train into a training set and validation set\r\n",
        "X_train, X_val, y_train, y_val = train_test_split(X, y, test_size=0.1, random_state=42)"
      ],
      "execution_count": 2,
      "outputs": [
        {
          "output_type": "stream",
          "text": [
            "Downloading data from https://storage.googleapis.com/tensorflow/tf-keras-datasets/mnist.npz\n",
            "11493376/11490434 [==============================] - 0s 0us/step\n"
          ],
          "name": "stdout"
        }
      ]
    },
    {
      "cell_type": "markdown",
      "metadata": {
        "id": "MiVSRHwItc8u"
      },
      "source": [
        "# Dataset Preprocessing"
      ]
    },
    {
      "cell_type": "code",
      "metadata": {
        "colab": {
          "base_uri": "https://localhost:8080/"
        },
        "id": "f-pqLyGruxa2",
        "outputId": "6c847714-1064-48e0-ef2e-b597d970bb14"
      },
      "source": [
        "# Number of training examples\r\n",
        "M = X_train.shape[0]\r\n",
        "\r\n",
        "# Number of validation samples\r\n",
        "Mval = X_val.shape[0]\r\n",
        "\r\n",
        "# Number of test examples\r\n",
        "Mtest = X_test.shape[0]\r\n",
        "\r\n",
        "# Number of features in the dataset\r\n",
        "num_features = 784\r\n",
        "\r\n",
        "# Number of classes\r\n",
        "num_classes = len(np.unique(y_train))\r\n",
        "\r\n",
        "# One hot encoding for class labels\r\n",
        "y_train_one_hot = np.zeros((10, M))\r\n",
        "y_train_one_hot[y_train, np.array(list(range(M)))] = 1\r\n",
        "\r\n",
        "y_val_one_hot = np.zeros((10, Mval))\r\n",
        "y_val_one_hot[y_val, np.array(list(range(Mval)))] = 1\r\n",
        "\r\n",
        "y_test_one_hot = np.zeros((10, Mtest))\r\n",
        "y_test_one_hot[y_test, np.array(list(range(Mtest)))] = 1\r\n",
        "\r\n",
        "print(\"Number of images in the training set =\", M)\r\n",
        "print(\"Number of images in the validation set =\", Mval)\r\n",
        "print(\"Number of images in the test set =\", Mtest)\r\n",
        "print(\"Number of classes =\", num_classes)\r\n",
        "print(\"Number of features per example =\", num_features)"
      ],
      "execution_count": 3,
      "outputs": [
        {
          "output_type": "stream",
          "text": [
            "Number of images in the training set = 54000\n",
            "Number of images in the validation set = 6000\n",
            "Number of images in the test set = 10000\n",
            "Number of classes = 10\n",
            "Number of features per example = 784\n"
          ],
          "name": "stdout"
        }
      ]
    },
    {
      "cell_type": "code",
      "metadata": {
        "id": "HgoEqEwYJ92M"
      },
      "source": [
        "# Modify shapes of the data matrices\r\n",
        "X_train = X_train.T\r\n",
        "X_val = X_val.T\r\n",
        "X_test = X_test.T\r\n",
        "X = X.T"
      ],
      "execution_count": 4,
      "outputs": []
    },
    {
      "cell_type": "markdown",
      "metadata": {
        "id": "lmd4GRMVgBOf"
      },
      "source": [
        "#### Number of neurons in the input and output layers"
      ]
    },
    {
      "cell_type": "code",
      "metadata": {
        "id": "Inh6uUzA042P"
      },
      "source": [
        "input_nodes = num_features\r\n",
        "output_nodes = num_classes"
      ],
      "execution_count": 5,
      "outputs": []
    },
    {
      "cell_type": "markdown",
      "metadata": {
        "id": "FEiyBElK0Ys5"
      },
      "source": [
        "#### Class names"
      ]
    },
    {
      "cell_type": "code",
      "metadata": {
        "id": "0s7qp1o_0XAk"
      },
      "source": [
        "class_names = [0,1,2,3,4,5,6,7,8,9]"
      ],
      "execution_count": 6,
      "outputs": []
    },
    {
      "cell_type": "markdown",
      "metadata": {
        "id": "T_u-SnAn0khM"
      },
      "source": [
        "#### Print Sample Images"
      ]
    },
    {
      "cell_type": "code",
      "metadata": {
        "colab": {
          "base_uri": "https://localhost:8080/",
          "height": 227
        },
        "id": "WRzoIJrC0jyY",
        "outputId": "a4eb99a6-209a-4350-c371-e0811eecbc1a"
      },
      "source": [
        "# Store the index of first occurrence of each class\r\n",
        "example_indices = [list(y_train).index(i) for i in range(num_classes)]\r\n",
        "\r\n",
        "fig=plt.figure()\r\n",
        "count = 1\r\n",
        "for index in example_indices:\r\n",
        "    fig.add_subplot(2,5,count)\r\n",
        "    plt.imshow(X_train.T[index].reshape((28, 28)))\r\n",
        "    count+=1\r\n"
      ],
      "execution_count": 7,
      "outputs": [
        {
          "output_type": "display_data",
          "data": {
            "image/png": "[encoded data removed]",
            "text/plain": [
              "<Figure size 432x288 with 10 Axes>"
            ]
          },
          "metadata": {
            "tags": [],
            "needs_background": "light"
          }
        }
      ]
    },
    {
      "cell_type": "markdown",
      "metadata": {
        "id": "pwBUUmA0tLow"
      },
      "source": [
        "# Components of the Neural Network Model"
      ]
    },
    {
      "cell_type": "markdown",
      "metadata": {
        "id": "Bo4ugAQGn6dm"
      },
      "source": [
        "#### Activation functions and their derivatives"
      ]
    },
    {
      "cell_type": "code",
      "metadata": {
        "id": "vpsINbUcepJn"
      },
      "source": [
        "def sigmoid(x):\n",
        "    return 1. / (1.+np.exp(-x))\n",
        "\n",
        "def sigmoid_derivative(x):\n",
        "    return sigmoid(x) * (1-sigmoid(x))\n",
        "\n",
        "def Relu(x):\n",
        "    return np.maximum(0,x)\n",
        "\n",
        "def Relu_derivative(x):\n",
        "    return 1*(x>0) \n",
        "\n",
        "def tanh(x):\n",
        "    return np.tanh(x)\n",
        "\n",
        "def tanh_derivative(x):\n",
        "    return (1 - (np.tanh(x)**2))\n",
        "\n",
        "def softmax(x):\n",
        "    return np.exp(x) / np.sum(np.exp(x), axis=0)\n",
        "\n",
        "def softmax_derivative(x):\n",
        "    return softmax(x) * (1-softmax(x))\n",
        "\n",
        "def compute_multiclass_loss(Y, Y_hat, batch_size, loss, lamb, parameters):\n",
        "\n",
        "    if loss == 'categorical_crossentropy':\n",
        "         L = (-1.0 * np.sum(np.multiply(Y, np.log(Y_hat))))/batch_size\n",
        "    elif loss == 'mse':\n",
        "         L = (1/2) * np.sum((Y-Y_hat)**2)/batch_size\n",
        "\n",
        "    #Add L2 regularisation\n",
        "    acc = 0\n",
        "    for i in range(1, len(parameters)//2 + 1):\n",
        "        acc += np.sum(parameters[\"W\"+str(i)]**2)\n",
        "\n",
        "    L = L + (lamb/(2*batch_size))*acc\n",
        "\n",
        "    return L"
      ],
      "execution_count": 8,
      "outputs": []
    },
    {
      "cell_type": "markdown",
      "metadata": {
        "id": "OKtXzCYVn3VM"
      },
      "source": [
        "#### Initialize parameters"
      ]
    },
    {
      "cell_type": "code",
      "metadata": {
        "id": "Gx8zxiVlepJo"
      },
      "source": [
        "def initialize_parameters(layer_dims, init_mode=\"xavier\"):\n",
        "    '''Function to initialise weights, biases and velocities/previous updates of the NN\n",
        "\n",
        "    Parameters\n",
        "    ----------\n",
        "    layer_dims: list\n",
        "        list of number of neurons per layer specifying layer dimensions in the format [#input_features,#hiddenunits...#hiddenunits,#outputclasses]\n",
        "\n",
        "    init_mode: string\n",
        "        initialisation mode, default-\"xavier\"\n",
        "\n",
        "    Returns\n",
        "    -------\n",
        "    params: dict\n",
        "        contains weights and biases. eg params[W1] is weight for layer 1\n",
        "\n",
        "    previous updates: dict\n",
        "        previous updates initialisation. This is used for different perposes for different optimisers.\n",
        "\n",
        "    '''\n",
        "    np.random.seed(42)\n",
        "    params = {}\n",
        "    previous_updates = {}\n",
        "\n",
        "    for i in range(1, len(layer_dims)):\n",
        "        if init_mode == 'random_normal':\n",
        "            params[\"W\"+str(i)] = np.random.randn(layer_dims[i], layer_dims[i-1]) * 0.01\n",
        "        elif init_mode == 'random_uniform':\n",
        "            params[\"W\"+str(i)] = np.random.rand(layer_dims[i], layer_dims[i-1]) * 0.01\n",
        "        elif init_mode == 'xavier':\n",
        "            params[\"W\"+str(i)]= np.random.randn(layer_dims[i],layer_dims[i-1])*np.sqrt(2/(layer_dims[i]+layer_dims[i-1]))\n",
        "            \n",
        "        params[\"b\"+str(i)] = np.zeros((layer_dims[i], 1))\n",
        "        \n",
        "        previous_updates[\"W\"+str(i)] = np.zeros((layer_dims[i], layer_dims[i-1]))\n",
        "        previous_updates[\"b\"+str(i)] = np.zeros((layer_dims[i], 1))\n",
        "\n",
        "    return params,previous_updates"
      ],
      "execution_count": 9,
      "outputs": []
    },
    {
      "cell_type": "markdown",
      "metadata": {
        "id": "MnM9KkkynvUx"
      },
      "source": [
        "#### Forward Propagation"
      ]
    },
    {
      "cell_type": "code",
      "metadata": {
        "id": "DwdBYy5HepJp"
      },
      "source": [
        "def forward_propagate(X, params, activation_f):\n",
        "    '''Function to forward propagate a minibatch of data once through the NN\n",
        "\n",
        "    Parameters\n",
        "    ----------\n",
        "    X: numpy array\n",
        "        data in (features,batch_size) format\n",
        "\n",
        "    params: dict\n",
        "        W and b of the NN\n",
        "\n",
        "    activation_f: string\n",
        "        activation function to be used except the output layer\n",
        "\n",
        "    Returns\n",
        "    -------\n",
        "    output: numpy array\n",
        "        contains the output probabilities for each class and each data sample after 1 pass\n",
        "    A: numpy array\n",
        "        contains all post-activations\n",
        "    Z: numpy array\n",
        "        contsins all pre-activations\n",
        "\n",
        "    '''\n",
        "    L = len(params)//2 + 1\n",
        "    A = [None]*L # activations\n",
        "    Z = [None]*L # pre-activations\n",
        "    \n",
        "    A[0] = X\n",
        "    \n",
        "    for l in range(1, L):\n",
        "        W = params[\"W\"+str(l)]\n",
        "        b = params[\"b\"+str(l)]\n",
        "        \n",
        "        Z[l] = np.matmul(W,A[l-1]) + b \n",
        "        \n",
        "        if l == L-1:\n",
        "            A[l] = softmax(Z[l]) # activation function for output layer\n",
        "        else:\n",
        "            if activation_f == 'sigmoid':\n",
        "                A[l] = sigmoid(Z[l])\n",
        "            elif activation_f == 'relu':\n",
        "                A[l] = Relu(Z[l])\n",
        "            elif activation_f == 'tanh':\n",
        "                A[l] = tanh(Z[l])\n",
        "                \n",
        "    output = A[L-1]\n",
        "\n",
        "    return output,A,Z"
      ],
      "execution_count": 10,
      "outputs": []
    },
    {
      "cell_type": "markdown",
      "metadata": {
        "id": "oAyZE5YTnzhk"
      },
      "source": [
        "#### Backpropagation"
      ]
    },
    {
      "cell_type": "code",
      "metadata": {
        "id": "UMxm3roOepJp"
      },
      "source": [
        "def backprop(y_hat, y,A, Z, params, activation_f, batch_size, loss, lamb):\n",
        "    '''Function to calculate gradients for a minibatch of data once through the NN through backpropagation\n",
        "\n",
        "    Parameters\n",
        "    ----------\n",
        "    y_hat: numpy array\n",
        "        output from forward propagation/ class probabilities\n",
        "\n",
        "    y: numpy array\n",
        "        actual class labels\n",
        "     \n",
        "    A: numpy array\n",
        "        post-activations\n",
        "\n",
        "    Z: numpy array\n",
        "        pre-activations   \n",
        "\n",
        "    params: dict\n",
        "        contains W and b on the NN   \n",
        "\n",
        "    activation_f: string\n",
        "        activation function to be used except the output layer\n",
        "\n",
        "    batch_size: int\n",
        "        mini-batch-size\n",
        "\n",
        "    loss: string\n",
        "        loss function (MSE/Categorical crossentropy)\n",
        "\n",
        "    lamb: float\n",
        "        L2 regularisation lambda\n",
        "\n",
        "    Returns\n",
        "    -------\n",
        "    gradients: dict\n",
        "        gradients wrt weights and biases\n",
        "\n",
        "    '''\n",
        "    L = len(params)//2 #no. of layers\n",
        "    gradients = {}\n",
        "    \n",
        "    #process last layer which has softmax\n",
        "    if loss == 'categorical_crossentropy':\n",
        "        gradients[\"dZ\"+str(L)] = A[L]-y\n",
        "    elif loss == 'mse':\n",
        "        gradients[\"dZ\"+str(L)] = (A[L]-y) * softmax_derivative(Z[L])\n",
        "    \n",
        "    #process other layers\n",
        "    for l in range(L,0,-1):\n",
        "        gradients[\"dW\" + str(l)] = (np.dot(gradients[\"dZ\" + str(l)], A[l-1].T) + lamb*params[\"W\"+str(l)]) / batch_size\n",
        "        gradients[\"db\" + str(l)] = np.sum(gradients[\"dZ\" + str(l)], axis=1, keepdims=True) / batch_size\n",
        "        \n",
        "        if l>1: \n",
        "            if activation_f == 'sigmoid':\n",
        "                gradients[\"dZ\"+str(l-1)] = np.matmul(params[\"W\" + str(l)].T, gradients[\"dZ\" + str(l)]) * sigmoid_derivative(Z[l-1])\n",
        "            elif activation_f == 'relu':\n",
        "                gradients[\"dZ\"+str(l-1)] = np.matmul(params[\"W\" + str(l)].T, gradients[\"dZ\" + str(l)]) * Relu_derivative(Z[l-1])\n",
        "            elif activation_f == 'tanh':\n",
        "                gradients[\"dZ\"+str(l-1)] = np.matmul(params[\"W\" + str(l)].T, gradients[\"dZ\" + str(l)]) * tanh_derivative(Z[l-1])\n",
        "        \n",
        "    return gradients"
      ],
      "execution_count": 11,
      "outputs": []
    },
    {
      "cell_type": "markdown",
      "metadata": {
        "id": "ipONUamsndAv"
      },
      "source": [
        "#### Optimizers\r\n",
        "\r\n",
        "This block contains functions that implement stochastic gradient descent, momentum, RMSprop, Adam. Nadam and Nestorov accelerated gradient are implemented inside the NN_fit function."
      ]
    },
    {
      "cell_type": "code",
      "metadata": {
        "id": "voUasFGaepJq"
      },
      "source": [
        "def update_params_sgd(parameters,grads,learning_rate):\n",
        "    ''' Update W and b of the NN according to sgd updates\n",
        "\n",
        "    Parameters\n",
        "    ----------\n",
        "    parameters: dict\n",
        "        contains weights and biases of the NN\n",
        "\n",
        "    grads: dict\n",
        "        contains gradients wrt W and b returned by backpropagation\n",
        "\n",
        "    learning_rate: float\n",
        "        learning rate\n",
        "\n",
        "    Returns\n",
        "    -------\n",
        "    parameters: dict\n",
        "        updated NN parameters\n",
        "\n",
        "    '''\n",
        "    L = len(parameters) // 2 \n",
        "    \n",
        "    for l in range(1, L + 1):\n",
        "        parameters[\"W\" + str(l)] = parameters[\"W\" + str(l)] - learning_rate * grads[\"dW\" + str(l)]\n",
        "        parameters[\"b\" + str(l)] = parameters[\"b\" + str(l)] - learning_rate * grads[\"db\" + str(l)]\n",
        "\n",
        "    return parameters\n",
        "\n",
        "def update_parameters_momentum(parameters, grads, learning_rate, beta, previous_updates):\n",
        "    ''' Update W and b of the NN according to momentum updates\n",
        "\n",
        "    Parameters\n",
        "    ----------\n",
        "    parameters: dict\n",
        "        contains weights and biases of the NN\n",
        "\n",
        "    grads: dict\n",
        "        contains gradients wrt W and b returned by backpropagation\n",
        "\n",
        "    learning_rate: float\n",
        "        learning rate\n",
        "    \n",
        "    beta: float\n",
        "        decay rate\n",
        "\n",
        "    previous_updates: dict\n",
        "        contains previous W and b values, accumulated in a weighted fashion along with the gradients eg.\n",
        "        previous_updates[Wi] = beta*previous_updates[Wi] + (1-beta)*gradient[dWi]\n",
        "\n",
        "    Returns\n",
        "    -------\n",
        "    parameters: dict\n",
        "        updated NN parameters\n",
        "\n",
        "    previous updates: dict\n",
        "        updated previous updates \n",
        "\n",
        "    '''\n",
        "    L = len(parameters) // 2 # number of layers in the neural network\n",
        "\n",
        "    for l in range(1, L + 1):\n",
        "        previous_updates[\"W\"+str(l)] = beta*previous_updates[\"W\"+str(l)] + (1-beta)*grads[\"dW\" + str(l)]\n",
        "        parameters[\"W\" + str(l)] = parameters[\"W\" + str(l)] - learning_rate*previous_updates[\"W\"+str(l)]\n",
        "        \n",
        "        previous_updates[\"b\"+str(l)] = beta*previous_updates[\"b\"+str(l)] + (1-beta)*grads[\"db\" + str(l)]\n",
        "        parameters[\"b\" + str(l)] = parameters[\"b\" + str(l)] - learning_rate*previous_updates[\"b\"+str(l)]\n",
        "\n",
        "    return parameters, previous_updates\n",
        "    \n",
        "def update_parameters_RMSprop(parameters, grads, learning_rate, beta, v):\n",
        "    ''' Update W and b of the NN according to RMSprop updates\n",
        "\n",
        "    Parameters\n",
        "    ----------\n",
        "    parameters: dict\n",
        "        contains weights and biases of the NN\n",
        "\n",
        "    grads: dict\n",
        "        contains gradients wrt W and b returned by backpropagation\n",
        "\n",
        "    learning_rate: float\n",
        "        learning rate\n",
        "    \n",
        "    beta: float\n",
        "        decay rate\n",
        "\n",
        "    v: dict\n",
        "        contains previous W and b values, accumulated in a weighted fashion along with the gradients square eg.\n",
        "        v[Wi] = beta*v[Wi] + (1-beta)*(gradient[dWi]^2)\n",
        "\n",
        "    Returns\n",
        "    -------\n",
        "    parameters: dict\n",
        "        updated NN parameters\n",
        "\n",
        "    v: dict\n",
        "        updated \"velocities\"\n",
        "\n",
        "    '''\n",
        "\n",
        "    L = len(parameters) // 2 # number of layers in the neural network\n",
        "    delta = 1e-6 # for numerical stability\n",
        "\n",
        "    for l in range(1, L + 1):\n",
        "        vdw = beta*v[\"W\" + str(l)] + (1-beta)*np.multiply(grads[\"dW\" + str(l)],grads[\"dW\" + str(l)])\n",
        "        vdb = beta*v[\"b\" + str(l)] + (1-beta)*np.multiply(grads[\"db\" + str(l)],grads[\"db\" + str(l)])\n",
        "\n",
        "        parameters[\"W\" + str(l)] = parameters[\"W\" + str(l)] - learning_rate * grads[\"dW\" + str(l)] / (np.sqrt(vdw)+delta)\n",
        "        parameters[\"b\" + str(l)] = parameters[\"b\" + str(l)] - learning_rate * grads[\"db\" + str(l)] / (np.sqrt(vdb)+delta)\n",
        "\n",
        "        v[\"W\" + str(l)] = vdw\n",
        "        v[\"b\" + str(l)] = vdb\n",
        "\n",
        "    return parameters,v\n",
        "\n",
        "def update_parameters_adam(parameters, grads, learning_rate, v, m, t):\n",
        "    ''' Update W and b of the NN according to adam updates\n",
        "\n",
        "    Parameters\n",
        "    ----------\n",
        "    parameters: dict\n",
        "        contains weights and biases of the NN\n",
        "\n",
        "    grads: dict\n",
        "        contains gradients wrt W and b returned by backpropagation\n",
        "\n",
        "    learning_rate: float\n",
        "        learning rate\n",
        "\n",
        "    v: dict\n",
        "        contains previous W and b values, accumulated in a weighted fashion along with the gradients eg.\n",
        "        v[Wi] = beta1*v[Wi] + (1-beta1)*(gradient[dWi])\n",
        "\n",
        "    m: dict\n",
        "        contains previous W and b values, accumulated in a weighted fashion along with the gradients^2 eg.\n",
        "        v[Wi] = beta2*v[Wi] + (1-beta2)*(gradient[dWi]^2)\n",
        "\n",
        "    t: int\n",
        "        timestep for Adam\n",
        "\n",
        "    Returns\n",
        "    -------\n",
        "    parameters: dict\n",
        "        updated NN parameters\n",
        "\n",
        "    v: dict\n",
        "        updated previous updates\n",
        "\n",
        "    m: dict\n",
        "        updated \"velocities\"\n",
        "\n",
        "    t: int\n",
        "        updated timestep\n",
        "\n",
        "    '''\n",
        "    L = len(parameters) // 2 # number of layers in the neural network\n",
        "    beta1 = 0.9 #default\n",
        "    beta2 = 0.999 #default\n",
        "    epsilon = 1e-8 #for numerical stability\n",
        "\n",
        "    for l in range(1, L+1):\n",
        "        mdw = beta1*m[\"W\"+str(l)] + (1-beta1)*grads[\"dW\"+str(l)]\n",
        "        vdw = beta2*v[\"W\"+str(l)] + (1-beta2)*np.square(grads[\"dW\"+str(l)])\n",
        "        mw_hat = mdw/(1.0 - beta1**t)\n",
        "        vw_hat = vdw/(1.0 - beta2**t)\n",
        "\n",
        "        parameters[\"W\"+str(l)] = parameters[\"W\"+str(l)] - (learning_rate * mw_hat)/np.sqrt(vw_hat + epsilon)\n",
        "\n",
        "        mdb = beta1*m[\"b\"+str(l)] + (1-beta1)*grads[\"db\"+str(l)]\n",
        "        vdb = beta2*v[\"b\"+str(l)] + (1-beta2)*np.square(grads[\"db\"+str(l)])\n",
        "        mb_hat = mdb/(1.0 - beta1**t)\n",
        "        vb_hat = vdb/(1.0 - beta2**t)\n",
        "\n",
        "        parameters[\"b\"+str(l)] = parameters[\"b\"+str(l)] - (learning_rate * mb_hat)/np.sqrt(vb_hat + epsilon)\n",
        "\n",
        "        v[\"dW\"+str(l)] = vdw\n",
        "        m[\"dW\"+str(l)] = mdw\n",
        "        v[\"db\"+str(l)] = vdb\n",
        "        m[\"db\"+str(l)] = mdb\n",
        "\n",
        "    t = t + 1 # timestep\n",
        "    return parameters, v, m, t\n",
        "\n",
        "######## Enter your new optimiser updates function here #############\n",
        "#                                                                   #\n",
        "#####################################################################"
      ],
      "execution_count": 12,
      "outputs": []
    },
    {
      "cell_type": "markdown",
      "metadata": {
        "id": "90n32Xz5n056"
      },
      "source": [
        "#### Function to plot the cost curves"
      ]
    },
    {
      "cell_type": "code",
      "metadata": {
        "id": "O8dH__MXepJr"
      },
      "source": [
        "def plot_cost_curve(train_costs, val_costs):\n",
        "    '''\n",
        "    Plots the train and validation cost curves\n",
        "    '''\n",
        "    plt.plot(list(range(len(train_costs))), train_costs, 'r', label=\"Training loss\")\n",
        "    plt.plot(list(range(len(val_costs))), val_costs, 'lime', label=\"Validation loss\")\n",
        "    plt.title(\"Training and Validation Loss vs Number of Epochs\", size=14)\n",
        "    plt.xlabel(\"Number of epochs\", size=14)\n",
        "    plt.ylabel(\"Loss\", size=14)\n",
        "    plt.grid()\n",
        "    plt.legend()\n",
        "    plt.show()"
      ],
      "execution_count": 13,
      "outputs": []
    },
    {
      "cell_type": "markdown",
      "metadata": {
        "id": "ql_zPw55s1k-"
      },
      "source": [
        "#### Prediction and Evaluation functions"
      ]
    },
    {
      "cell_type": "code",
      "metadata": {
        "id": "sAH95JS2epJt"
      },
      "source": [
        "def NN_predict(X_test, params, activation_f):\n",
        "    '''\n",
        "    forward propagate once and calculate labels\n",
        "\n",
        "    '''\n",
        "    output, _, _ = forward_propagate(X_test, params, activation_f)\n",
        "    predictions = np.argmax(output, axis=0)\n",
        "    return predictions\n",
        "\n",
        "def NN_evaluate(X_train, y_train, X_test, y_test, params, activation_f):\n",
        "    '''\n",
        "    print train,test accuracies and the classification report using sklearn\n",
        "\n",
        "    '''\n",
        "    train_predictions = NN_predict(X_train, params, activation_f)\n",
        "    test_predictions = NN_predict(X_test, params, activation_f)\n",
        "\n",
        "    print(\"Training accuracy = {} %\".format(round(accuracy_score(y_train, train_predictions) * 100, 3)))\n",
        "    print(\"Test accuracy = {} %\".format(round(accuracy_score(y_test, test_predictions) * 100, 3)))\n",
        "\n",
        "    print(\"Classification report for the test set:\\n\")\n",
        "    print(classification_report(y_test, test_predictions))\n",
        "\n",
        "    return train_predictions, test_predictions"
      ],
      "execution_count": 14,
      "outputs": []
    },
    {
      "cell_type": "markdown",
      "metadata": {
        "id": "BMCGMdn8fJd1"
      },
      "source": [
        "# Training the model with the best combination of hyperparameters"
      ]
    },
    {
      "cell_type": "markdown",
      "metadata": {
        "id": "EQd7vo3kndsm"
      },
      "source": [
        "#### Training on the full dataset"
      ]
    },
    {
      "cell_type": "code",
      "metadata": {
        "id": "T6qjPljPohV6"
      },
      "source": [
        "def NN_fit(X_train, y_train_one_hot,X_val,y_val_one_hot, learning_rate = 0.001, activation_f = 'tanh', init_mode = 'xavier', \r\n",
        "                optimizer = 'adam', batch_size = 512, loss = 'categorical_crossentropy', epochs = 20, L2_lamb = 0,\r\n",
        "                layer_dims=[]):\r\n",
        "    \"\"\"This function is used to train the neural network on the dataset \r\n",
        "\r\n",
        "    X_train: numpy array\r\n",
        "        train dataset\r\n",
        "\r\n",
        "    y_train_one_hot: numpy array\r\n",
        "        train labels with one-hot encoding\r\n",
        "\r\n",
        "    learning_rate: float\r\n",
        "\r\n",
        "    activation_f: string\r\n",
        "        activation functions for all the layers except the last layer which is softmax\r\n",
        "\r\n",
        "    init_mode: string\r\n",
        "        initialization mode\r\n",
        "    \r\n",
        "    optimizer: string\r\n",
        "        optimization routine\r\n",
        "\r\n",
        "    bach_size: int\r\n",
        "        minibatch size\r\n",
        "\r\n",
        "    loss: string\r\n",
        "        loss function\r\n",
        "\r\n",
        "    epochs: int\r\n",
        "        number of epochs to be used\r\n",
        "\r\n",
        "    L2_lamb: float\r\n",
        "        lambda for L2 regularisation of weights\r\n",
        "\r\n",
        "    num_neurons: int\r\n",
        "        number of neurons in every hidden layer\r\n",
        "\r\n",
        "    num_hidden: \r\n",
        "        number of hidden layers\r\n",
        "\r\n",
        "    Returns\r\n",
        "    -------\r\n",
        "\r\n",
        "    parameters: dict\r\n",
        "        weights and biases of the NN model\r\n",
        "\r\n",
        "    epoch_cost: list\r\n",
        "        training costs with every epoch\r\n",
        "    \r\n",
        "\r\n",
        "    \"\"\"\r\n",
        "\r\n",
        "\r\n",
        "    params, previous_updates = initialize_parameters(layer_dims, init_mode) # initialize the parameters and past updates matrices\r\n",
        "    \r\n",
        "    epoch_cost = []\r\n",
        "    validation_epoch_cost=[]\r\n",
        "    \r\n",
        "    count = 1\r\n",
        "    t = 1 # initialize timestep for Adam optimizer\r\n",
        "    v = previous_updates.copy()\r\n",
        "    m = previous_updates.copy()\r\n",
        "    params_look_ahead = params.copy() # initialization for nestorov\r\n",
        "    beta = 0.9\r\n",
        "    loss = 'categorical_crossentropy'    \r\n",
        "\r\n",
        "    while count<=epochs:\r\n",
        "        count = count + 1 # increment the number of epochs\r\n",
        "\r\n",
        "        for i in range(0, X_train.shape[1], batch_size):\r\n",
        "            batch_count = batch_size\r\n",
        "\r\n",
        "            if i + batch_size > X_train.shape[1]: # the last mini-batch might contain fewer than \"batch_size\" examples\r\n",
        "                batch_count = X_train.shape[1] - i + 1\r\n",
        "            \r\n",
        "            #process all nesterov accelerated optimisers\r\n",
        "\r\n",
        "            #NAG\r\n",
        "            if optimizer == 'nesterov':\r\n",
        "                L = len(params)//2\r\n",
        "\r\n",
        "                #look ahead logic\r\n",
        "                for l in range(1, L+1):\r\n",
        "                    params_look_ahead[\"W\"+str(l)] = params[\"W\"+str(l)] - beta*previous_updates[\"W\"+str(l)]\r\n",
        "                    params_look_ahead[\"b\"+str(l)] = params[\"b\"+str(l)] - beta*previous_updates[\"b\"+str(l)]\r\n",
        "                    \r\n",
        "                output,A,Z = forward_propagate(X_train[:,i:i+batch_size],params_look_ahead,activation_f)\r\n",
        "                gradients = backprop(output,y_train_one_hot[:,i:i+batch_size],A,Z,params_look_ahead,activation_f, batch_count, loss, L2_lamb)\r\n",
        "\r\n",
        "                #call momentum\r\n",
        "                params,previous_updates = update_parameters_momentum(params, gradients, learning_rate, beta, previous_updates)\r\n",
        "\r\n",
        "            #nadam\r\n",
        "            elif optimizer=='nadam':\r\n",
        "                L = len(params)//2\r\n",
        "\r\n",
        "                #look ahead logic\r\n",
        "                for l in range(1, L+1):\r\n",
        "                    params_look_ahead[\"W\"+str(l)] = params[\"W\"+str(l)] - beta*previous_updates[\"W\"+str(l)]\r\n",
        "                    params_look_ahead[\"b\"+str(l)] = params[\"b\"+str(l)] - beta*previous_updates[\"b\"+str(l)]\r\n",
        "\r\n",
        "                output,A,Z = forward_propagate(X_train[:,i:i+batch_size],params_look_ahead,activation_f)\r\n",
        "                gradients = backprop(output,y_train_one_hot[:,i:i+batch_size],A,Z,params_look_ahead,activation_f, batch_count, loss, L2_lamb)\r\n",
        "\r\n",
        "                #call adam\r\n",
        "                params, v, m, t = update_parameters_adam(params, gradients, learning_rate, v, m, t)\r\n",
        "\r\n",
        "            #custom\r\n",
        "            elif optimizer == 'insert your nesterov accelerated optimiser here':\r\n",
        "                #insert your optimiser here if it is nesterov accelerated\r\n",
        "\r\n",
        "                #insert lookahead logic here\r\n",
        "\r\n",
        "                #for weight updates, call that optimiser's weight update code here\r\n",
        "                pass\r\n",
        "\r\n",
        "            #process all other optimisers\r\n",
        "\r\n",
        "            else:\r\n",
        "                output,A,Z = forward_propagate(X_train[:,i:i+batch_size],params,activation_f)\r\n",
        "                gradients = backprop(output,y_train_one_hot[:,i:i+batch_size],A,Z,params,activation_f, batch_count, loss, L2_lamb)\r\n",
        "\r\n",
        "                if optimizer == 'sgd':\r\n",
        "                    params = update_params_sgd(params,gradients,learning_rate)\r\n",
        "                elif optimizer == 'momentum':\r\n",
        "                    params,previous_updates = update_parameters_momentum(params, gradients, learning_rate, beta, previous_updates)\r\n",
        "                elif optimizer == 'RMSprop':\r\n",
        "                    params,previous_updates = update_parameters_RMSprop(params, gradients, learning_rate, beta, previous_updates)\r\n",
        "                elif optimizer == 'adam':\r\n",
        "                    params, v, m, t = update_parameters_adam(params, gradients, learning_rate, v, m, t)\r\n",
        "\r\n",
        "                #custom\r\n",
        "                elif optimizer == 'insert your optimiser here':\r\n",
        "                    #insert your optimiser update routine only if it does not have nesterov \r\n",
        "                    pass\r\n",
        "\r\n",
        "                    \r\n",
        "        # Mean loss for the full training set\r\n",
        "        full_output, _, _ = forward_propagate(X_train, params, activation_f)\r\n",
        "        cost = compute_multiclass_loss(y_train_one_hot, full_output, M, loss, L2_lamb, params)\r\n",
        "        epoch_cost.append(cost)\r\n",
        "        \r\n",
        "        # Mean loss for the validation set\r\n",
        "        out, _, _ = forward_propagate(X_val, params, activation_f)\r\n",
        "        val_cost = compute_multiclass_loss(y_val_one_hot, out, Mval, loss, L2_lamb, params)\r\n",
        "        validation_epoch_cost.append(val_cost)\r\n",
        "\r\n",
        "        if (count % 2 == 0):\r\n",
        "            print(\"Epoch number: \", count, \"\\tTraining cost:\", cost)\r\n",
        "\r\n",
        "\r\n",
        "    \r\n",
        "    # Plot the training and validation cost curves\r\n",
        "    plot_cost_curve(epoch_cost, validation_epoch_cost)\r\n",
        "\r\n",
        "\r\n",
        "    return params, epoch_cost"
      ],
      "execution_count": 48,
      "outputs": []
    },
    {
      "cell_type": "code",
      "metadata": {
        "id": "7FObLG97UJ_U"
      },
      "source": [
        "#hyperparameters\r\n",
        "\r\n",
        "LEARNING_RATE = 0.001\r\n",
        "ACTIVATION = \"relu\"\r\n",
        "INITIALIZER = \"xavier\"\r\n",
        "OPTIMIZER = \"RMSprop\"\r\n",
        "BATCH_SIZE = 512\r\n",
        "EPOCHS = 40\r\n",
        "L2_lambda = 0.0005\r\n",
        "LAYER_DIMS = [784,64,32,64,10]\r\n",
        "\r\n",
        "LOSS = 'categorical_crossentropy'"
      ],
      "execution_count": 49,
      "outputs": []
    },
    {
      "cell_type": "code",
      "metadata": {
        "colab": {
          "base_uri": "https://localhost:8080/",
          "height": 636
        },
        "id": "BaT2hbHPe10a",
        "outputId": "ae4e64ad-4a6d-43dc-c297-ea58117125cd"
      },
      "source": [
        "\r\n",
        "learned_parameters, epoch_cost = NN_fit(X_train, y_train_one_hot,\r\n",
        "                            X_val,y_val_one_hot,\r\n",
        "                            learning_rate=LEARNING_RATE,\r\n",
        "                            activation_f = ACTIVATION,\r\n",
        "                            init_mode = INITIALIZER,\r\n",
        "                            optimizer = OPTIMIZER,\r\n",
        "                            batch_size = BATCH_SIZE,\r\n",
        "                            loss = LOSS,\r\n",
        "                            epochs = EPOCHS,\r\n",
        "                            L2_lamb = L2_lambda,\r\n",
        "                            layer_dims = LAYER_DIMS)"
      ],
      "execution_count": 50,
      "outputs": [
        {
          "output_type": "stream",
          "text": [
            "Epoch number:  2 \tTraining cost: 0.29724112957968335\n",
            "Epoch number:  4 \tTraining cost: 0.17964668786594443\n",
            "Epoch number:  6 \tTraining cost: 0.1320100211795853\n",
            "Epoch number:  8 \tTraining cost: 0.10934768263503333\n",
            "Epoch number:  10 \tTraining cost: 0.08769092778010247\n",
            "Epoch number:  12 \tTraining cost: 0.07083312798147127\n",
            "Epoch number:  14 \tTraining cost: 0.05616295419535786\n",
            "Epoch number:  16 \tTraining cost: 0.04399845755513988\n",
            "Epoch number:  18 \tTraining cost: 0.03719120400808024\n",
            "Epoch number:  20 \tTraining cost: 0.031550388872874674\n",
            "Epoch number:  22 \tTraining cost: 0.02896365076054268\n",
            "Epoch number:  24 \tTraining cost: 0.023002395443528396\n",
            "Epoch number:  26 \tTraining cost: 0.02416444181840823\n",
            "Epoch number:  28 \tTraining cost: 0.017187312198060096\n",
            "Epoch number:  30 \tTraining cost: 0.02098107056440033\n",
            "Epoch number:  32 \tTraining cost: 0.014236577480023917\n",
            "Epoch number:  34 \tTraining cost: 0.0114298597393141\n",
            "Epoch number:  36 \tTraining cost: 0.011190042019529688\n",
            "Epoch number:  38 \tTraining cost: 0.010129216286665637\n",
            "Epoch number:  40 \tTraining cost: 0.006202297234131007\n"
          ],
          "name": "stdout"
        },
        {
          "output_type": "display_data",
          "data": {
            "image/png": "[encoded data removed]",
            "text/plain": [
              "<Figure size 432x288 with 1 Axes>"
            ]
          },
          "metadata": {
            "tags": [],
            "needs_background": "light"
          }
        }
      ]
    },
    {
      "cell_type": "markdown",
      "metadata": {
        "id": "woXJqKNsfLVa"
      },
      "source": [
        "#### Model Evaluation with X_test dataset"
      ]
    },
    {
      "cell_type": "code",
      "metadata": {
        "colab": {
          "base_uri": "https://localhost:8080/"
        },
        "id": "wWj7qtnje7Sg",
        "outputId": "72fa3e79-18a8-4bf6-deec-8220baa4e52f"
      },
      "source": [
        "train_predictions, test_predictions = NN_evaluate(X_train, y_train, X_test, y_test, learned_parameters, ACTIVATION)"
      ],
      "execution_count": 52,
      "outputs": [
        {
          "output_type": "stream",
          "text": [
            "Training accuracy = 99.813 %\n",
            "Test accuracy = 97.32 %\n",
            "Classification report for the test set:\n",
            "\n",
            "              precision    recall  f1-score   support\n",
            "\n",
            "           0       0.98      0.99      0.98       980\n",
            "           1       0.99      0.99      0.99      1135\n",
            "           2       0.97      0.97      0.97      1032\n",
            "           3       0.95      0.98      0.96      1010\n",
            "           4       0.97      0.97      0.97       982\n",
            "           5       0.99      0.95      0.97       892\n",
            "           6       0.97      0.99      0.98       958\n",
            "           7       0.99      0.96      0.97      1028\n",
            "           8       0.97      0.97      0.97       974\n",
            "           9       0.95      0.96      0.96      1009\n",
            "\n",
            "    accuracy                           0.97     10000\n",
            "   macro avg       0.97      0.97      0.97     10000\n",
            "weighted avg       0.97      0.97      0.97     10000\n",
            "\n"
          ],
          "name": "stdout"
        }
      ]
    },
    {
      "cell_type": "code",
      "metadata": {
        "id": "iO-y6Bgehc_3"
      },
      "source": [
        ""
      ],
      "execution_count": null,
      "outputs": []
    }
  ]
}