{
 "cells": [
  {
   "cell_type": "code",
   "execution_count": 3,
   "metadata": {},
   "outputs": [
    {
     "name": "stderr",
     "output_type": "stream",
     "text": [
      "Using TensorFlow backend.\n"
     ]
    }
   ],
   "source": [
    "import warnings\n",
    "import numpy as np\n",
    "import pandas as pd\n",
    "import matplotlib.pyplot as plt\n",
    "from keras.datasets import mnist\n",
    "from sklearn.model_selection import train_test_split\n",
    "warnings.filterwarnings(\"ignore\")\n",
    "import time"
   ]
  },
  {
   "cell_type": "code",
   "execution_count": 5,
   "metadata": {},
   "outputs": [],
   "source": [
    "#mnist\n",
    "from sklearn.datasets import fetch_openml\n",
    "f_mnist = fetch_openml('Fashion-MNIST')\n",
    "X, y = f_mnist[\"data\"], f_mnist[\"target\"]\n",
    "\n",
    "X = X / 255\n"
   ]
  },
  {
   "cell_type": "code",
   "execution_count": 6,
   "metadata": {},
   "outputs": [],
   "source": [
    "classes = 10\n",
    "examples = y.shape[0]\n",
    "\n",
    "y = y.reshape(1, examples)\n",
    "\n",
    "Y_new = np.eye(classes)[y.astype('int32')]\n",
    "Y_new = Y_new.T.reshape(classes, examples)"
   ]
  },
  {
   "cell_type": "code",
   "execution_count": 7,
   "metadata": {},
   "outputs": [
    {
     "name": "stdout",
     "output_type": "stream",
     "text": [
      "(784, 56000)\n",
      "(10, 56000)\n",
      "(784, 7000)\n",
      "(10, 7000)\n",
      "(784, 7000)\n",
      "(10, 7000)\n"
     ]
    }
   ],
   "source": [
    "\n",
    "X_train, X_test, Y_train, Y_test = train_test_split(X, Y_new.T, test_size=0.2, random_state=42)\n",
    "X_val, X_test, Y_val, Y_test = train_test_split(X_test, Y_test, test_size=0.5, random_state=42)\n",
    "\n",
    "X_train=X_train.T\n",
    "X_test=X_test.T\n",
    "X_val = X_val.T\n",
    "\n",
    "Y_train=Y_train.T\n",
    "Y_test=Y_test.T\n",
    "Y_val = Y_val.T\n",
    "\n",
    "print(X_train.shape)\n",
    "print(Y_train.shape)\n",
    "print(X_val.shape)\n",
    "print(Y_val.shape)\n",
    "print(X_test.shape)\n",
    "print(Y_test.shape)\n"
   ]
  },
  {
   "cell_type": "code",
   "execution_count": 8,
   "metadata": {},
   "outputs": [],
   "source": [
    "\n",
    "def sigmoid(x):\n",
    "    return 1. / (1.+np.exp(-x))\n",
    "def dsigmoid(x):\n",
    "    return sigmoid(x) * (1-sigmoid(x))\n",
    "\n",
    "def Relu(x):\n",
    "    return np.maximum(0,x)\n",
    "def dRelu(x):\n",
    "    return 1*(x>0) \n",
    "\n",
    "def tanh(x):\n",
    "    return np.tanh(x)\n",
    "def tanh_derivative(x):\n",
    "    return (1 - (np.tanh(x)**2))\n",
    "\n",
    "def softmax(x):\n",
    "    return np.exp(x) / np.sum(np.exp(x), axis=0)\n",
    "\n",
    "#cross-entropy for our cost function\n",
    "def compute_multiclass_loss(Y, Y_hat):\n",
    "    L_sum = np.sum(np.multiply(Y, np.log(Y_hat)))\n",
    "    m = Y.shape[1]\n",
    "    L = -(1/m) * L_sum\n",
    "    return L"
   ]
  },
  {
   "cell_type": "code",
   "execution_count": 9,
   "metadata": {},
   "outputs": [],
   "source": [
    "def initialise_parameters(layer_dims,init_mode):\n",
    "    \n",
    "    np.random.seed(42)\n",
    "    params={}\n",
    "    previous_updates = {}\n",
    "    for i in range(1, len(layer_dims)):\n",
    "        \n",
    "        if init_mode == 'random_normal':\n",
    "            params[\"W\"+str(i)] = np.random.randn(layer_dims[i], layer_dims[i-1])\n",
    "        elif init_mode == 'random_uniform':\n",
    "            params[\"W\"+str(i)] = np.random.rand(layer_dims[i], layer_dims[i-1])\n",
    "        elif init_mode == 'xavier':\n",
    "            params[\"W\"+str(i)]= np.random.randn(layer_dims[i],layer_dims[i-1])*np.sqrt(2/(layer_dims[i]+layer_dims[i-1]))\n",
    "            \n",
    "        params[\"b\"+str(i)] = np.zeros((layer_dims[i],1))\n",
    "        \n",
    "        previous_updates[\"W\"+str(i)] = np.zeros((layer_dims[i], layer_dims[i-1]))\n",
    "        previous_updates[\"b\"+str(i)] = np.zeros((layer_dims[i], 1))\n",
    "\n",
    "    \n",
    "    return params,previous_updates\n",
    "    "
   ]
  },
  {
   "cell_type": "code",
   "execution_count": 10,
   "metadata": {},
   "outputs": [],
   "source": [
    "def forward_propagate(X,params,activation_f):\n",
    "    L = len(params)//2 + 1\n",
    "    A = [None]*L # activations\n",
    "    Z = [None]*L # pre-activations\n",
    "    \n",
    "    A[0] = X\n",
    "    \n",
    "    for l in range(1, L):\n",
    "        W = params[\"W\"+str(l)]\n",
    "        b = params[\"b\"+str(l)]\n",
    "        \n",
    "        \n",
    "        Z[l] = np.matmul(W,A[l-1]) + b\n",
    "        \n",
    "        \n",
    "        if l == L-1:\n",
    "            A[l] = softmax(Z[l]) # activation function for output layers\n",
    "        else:\n",
    "            if activation_f == 'sigmoid':\n",
    "                A[l] = sigmoid(Z[l])\n",
    "            elif activation_f == 'relu':\n",
    "                A[l] = Relu(Z[l])\n",
    "            elif activation_f == 'tanh':\n",
    "                A[l] = tanh(Z[l])\n",
    "                \n",
    "\n",
    "    output = A[L-1]\n",
    "    \n",
    "\n",
    "    \n",
    "    return output,A,Z"
   ]
  },
  {
   "cell_type": "code",
   "execution_count": 34,
   "metadata": {},
   "outputs": [],
   "source": [
    "def backpropagate(y_hat,y,A,Z,params,activation_f):\n",
    "    L = len(params)//2\n",
    "    gradients = {}\n",
    "    m=y.shape[1]\n",
    "    \n",
    "    gradients[\"dZ\" + str(L)] = A[L]-y\n",
    "    \n",
    "    for l in range(L,0,-1):\n",
    "        gradients[\"dW\" + str(l)] = (1./m) * np.matmul(gradients[\"dZ\" + str(l)], A[l-1].T)\n",
    "        gradients[\"db\" + str(l)] = (1./m) * np.sum(gradients[\"dZ\" + str(l)], axis=1,keepdims=True)\n",
    "        \n",
    "        if l>1:\n",
    "            if activation_f == 'sigmoid':\n",
    "                gradients[\"dZ\" + str(l-1)] = np.matmul(params[\"W\" + str(l)].T, gradients[\"dZ\" + str(l)]) * dsigmoid(Z[l-1])\n",
    "            elif activation_f == 'relu':\n",
    "                gradients[\"dZ\" + str(l-1)] = np.matmul(params[\"W\" + str(l)].T, gradients[\"dZ\" + str(l)]) * dRelu(Z[l-1])\n",
    "            elif activation_f == 'tanh':\n",
    "                gradients[\"dZ\" + str(l-1)] = np.matmul(params[\"W\" + str(l)].T, gradients[\"dZ\" + str(l)]) * dtanh(Z[l-1])\n",
    "        \n",
    "    return gradients\n",
    "    "
   ]
  },
  {
   "cell_type": "code",
   "execution_count": 12,
   "metadata": {},
   "outputs": [],
   "source": [
    "def update_params_sgd(parameters,grads,learning_rate):\n",
    "    L = len(parameters) // 2 \n",
    "    \n",
    "    for l in range(1, L + 1):\n",
    "        parameters[\"W\" + str(l)] = parameters[\"W\" + str(l)] - learning_rate * grads[\"dW\" + str(l)]\n",
    "        parameters[\"b\" + str(l)] = parameters[\"b\" + str(l)] - learning_rate * grads[\"db\" + str(l)]\n",
    "\n",
    "    return parameters\n",
    "\n",
    "def update_parameters_momentum(parameters, grads, learning_rate, beta, previous_updates):\n",
    "    L = len(parameters) // 2 # number of layers in the neural network\n",
    "\n",
    "    for l in range(1, L + 1):\n",
    "        previous_updates[\"W\"+str(l)] = beta*previous_updates[\"W\"+str(l)] + (1-beta)*grads[\"dW\" + str(l)]\n",
    "        parameters[\"W\" + str(l)] = parameters[\"W\" + str(l)] - learning_rate*previous_updates[\"W\"+str(l)]\n",
    "        \n",
    "        previous_updates[\"b\"+str(l)] = beta*previous_updates[\"b\"+str(l)] + (1-beta)*grads[\"db\" + str(l)]\n",
    "        parameters[\"b\" + str(l)] = parameters[\"b\" + str(l)] - learning_rate*previous_updates[\"b\"+str(l)]\n",
    "\n",
    "    return parameters, previous_updates\n",
    "    \n",
    "def update_parameters_RMSprop(parameters, grads, learning_rate, beta, v):\n",
    "\n",
    "    L = len(parameters) // 2 # number of layers in the neural network\n",
    "    delta = 1e-6 #for numerical stability\n",
    "\n",
    "    for l in range(1, L + 1):\n",
    "        vdw = beta*v[\"W\" + str(l)] + (1-beta)*np.multiply(grads[\"dW\" + str(l)],grads[\"dW\" + str(l)])\n",
    "        vdb = beta*v[\"b\" + str(l)] + (1-beta)*np.multiply(grads[\"db\" + str(l)],grads[\"db\" + str(l)])\n",
    "\n",
    "        parameters[\"W\" + str(l)] = parameters[\"W\" + str(l)] - learning_rate * grads[\"dW\" + str(l)] / (np.sqrt(vdw)+delta)\n",
    "        parameters[\"b\" + str(l)] = parameters[\"b\" + str(l)] - learning_rate * grads[\"db\" + str(l)] / (np.sqrt(vdb)+delta)\n",
    "\n",
    "        v[\"W\" + str(l)] = vdw\n",
    "        v[\"b\" + str(l)] = vdb\n",
    "\n",
    "    return parameters,v"
   ]
  },
  {
   "cell_type": "code",
   "execution_count": 13,
   "metadata": {},
   "outputs": [],
   "source": [
    "def plot_cost_curve(train_costs, val_costs):\n",
    "    plt.plot(list(range(len(train_costs))), train_costs, 'r', label=\"Training loss\")\n",
    "    plt.plot(list(range(len(val_costs))), val_costs, 'lime', label=\"Validation loss\")\n",
    "    plt.title(\"Training and Validation vs Number of Epochs\", size=16)\n",
    "    plt.xlabel(\"Number of epochs\", size=14)\n",
    "    plt.ylabel(\"Loss\", size=14)\n",
    "    plt.grid()\n",
    "    plt.legend()\n",
    "    plt.show()"
   ]
  },
  {
   "cell_type": "code",
   "execution_count": 46,
   "metadata": {},
   "outputs": [],
   "source": [
    "def NN_fit(X,y,X_val,y_val,layer_dims,learning_rate=0.01, activation_f='sigmoid', init_mode='xavier', optimizer = 'sgd', batch_size=512, epochs=100, beta=0.9):\n",
    "    params,previous_updates = initialise_parameters(layer_dims,init_mode)\n",
    "    \n",
    "    epoch_cost = []\n",
    "    validation_epoch_cost=[]\n",
    "    prev_epoch_cost = 100000\n",
    "    curr_epoch_cost =0\n",
    "    params_look_ahead = params.copy()\n",
    "    \n",
    "    count = 1\n",
    "    while abs(prev_epoch_cost-curr_epoch_cost) > 1e-7 and count<=epochs:\n",
    "        \n",
    "        count+=1\n",
    "        \n",
    "        for i in range(0, X.shape[1], batch_size):\n",
    "            if optimizer == 'nesterov':\n",
    "                \n",
    "                L = len(params)//2\n",
    "                for l in range(1,L+1):\n",
    "                    params_look_ahead[\"W\"+str(l)] = params[\"W\"+str(l)] - beta*previous_updates[\"W\"+str(l)]\n",
    "                    params_look_ahead[\"b\"+str(l)] = params[\"b\"+str(l)] - beta*previous_updates[\"b\"+str(l)]\n",
    "                    \n",
    "                output,A,Z = forward_propagate(X[:,i:i+batch_size],params_look_ahead,activation_f)\n",
    "                gradients = backpropagate(output,y[:,i:i+batch_size],A,Z,params_look_ahead,activation_f)\n",
    "                params,previous_updates = update_parameters_momentum(params, gradients, learning_rate, beta, previous_updates)\n",
    "                \n",
    "            else:\n",
    "                output,A,Z = forward_propagate(X[:,i:i+batch_size],params,activation_f)\n",
    "\n",
    "                gradients = backpropagate(output,y[:,i:i+batch_size],A,Z,params,activation_f)\n",
    "\n",
    "                if optimizer == 'sgd':\n",
    "                    params = update_params_sgd(params,gradients,learning_rate)\n",
    "                if optimizer == 'momentum':\n",
    "                    params,previous_updates = update_parameters_momentum(params, gradients, learning_rate, beta, previous_updates)\n",
    "                if optimizer == 'RMSprop':\n",
    "                    params,previous_updates = update_parameters_RMSprop(params, gradients, learning_rate, beta, previous_updates)\n",
    "        \n",
    "        cost = compute_multiclass_loss(y[:,i:i+batch_size], output)\n",
    "        epoch_cost.append(cost)\n",
    "        \n",
    "        out, _, _ = forward_propagate(X_val, params, activation_f)\n",
    "        val_cost = compute_multiclass_loss(y_val, out)\n",
    "        validation_epoch_cost.append(val_cost)\n",
    "\n",
    "        if (count % 2 == 0):\n",
    "            print(\"Epoch\", count, \"cost: \", cost, \"Validation cost:\",val_cost)\n",
    "\n",
    "    print(\"Final cost:\", cost)\n",
    "    \n",
    "    plot_cost_curve(epoch_cost, validation_epoch_cost)\n",
    "    \n",
    "    return params, epoch_cost\n"
   ]
  },
  {
   "cell_type": "code",
   "execution_count": 41,
   "metadata": {},
   "outputs": [],
   "source": [
    "def NN_predict(X_test,params,activation_f):\n",
    "    output,_,_ = forward_propagate(X_test,params,activation_f)\n",
    "    return output\n",
    "    \n",
    "def NN_evaluate(Y_hat,Y_test):\n",
    "    predictions = np.argmax(Y_hat, axis=0)\n",
    "    labels = np.argmax(Y_test, axis=0)\n",
    "    print(classification_report(predictions, labels))\n",
    "    "
   ]
  },
  {
   "cell_type": "code",
   "execution_count": 48,
   "metadata": {},
   "outputs": [
    {
     "name": "stdout",
     "output_type": "stream",
     "text": [
      "Epoch 2 cost:  0.7079821811977427 Validation cost: 0.6743875399697807\n",
      "Epoch 4 cost:  0.5425088805363987 Validation cost: 0.5158686861946342\n",
      "Epoch 6 cost:  0.469419937613917 Validation cost: 0.46383415987194815\n",
      "Epoch 8 cost:  0.4175558443440715 Validation cost: 0.4358650586415125\n",
      "Epoch 10 cost:  0.38122823203113043 Validation cost: 0.41672179318220387\n",
      "Epoch 12 cost:  0.34526891869804555 Validation cost: 0.40243983951274176\n",
      "Epoch 14 cost:  0.32012718401697726 Validation cost: 0.39107487351692716\n",
      "Epoch 16 cost:  0.30347393901764497 Validation cost: 0.38184896876648783\n",
      "Epoch 18 cost:  0.2913271754838289 Validation cost: 0.37399195207710983\n",
      "Epoch 20 cost:  0.27930015512136996 Validation cost: 0.3671749828809574\n",
      "Epoch 22 cost:  0.2657934027642821 Validation cost: 0.36143386989167187\n",
      "Epoch 24 cost:  0.2554790179699695 Validation cost: 0.3561628745441641\n",
      "Epoch 26 cost:  0.2444367090784129 Validation cost: 0.3513840662879548\n",
      "Epoch 28 cost:  0.23591796986736285 Validation cost: 0.34754819895791444\n",
      "Epoch 30 cost:  0.22738708912307154 Validation cost: 0.3441154969255142\n",
      "Epoch 32 cost:  0.21977039859307895 Validation cost: 0.3410659672151145\n",
      "Epoch 34 cost:  0.21491946851336255 Validation cost: 0.3382214304767048\n",
      "Epoch 36 cost:  0.2077114065431425 Validation cost: 0.33566446432184294\n",
      "Epoch 38 cost:  0.20059795805049124 Validation cost: 0.33344669575096403\n",
      "Epoch 40 cost:  0.19585792683194658 Validation cost: 0.33111904516347707\n",
      "Epoch 42 cost:  0.18963401201383295 Validation cost: 0.32911274597096646\n",
      "Epoch 44 cost:  0.1856806373786918 Validation cost: 0.3275382280973361\n",
      "Epoch 46 cost:  0.1782142313475408 Validation cost: 0.32608951121673985\n",
      "Epoch 48 cost:  0.17344121258498205 Validation cost: 0.32500217925901537\n",
      "Epoch 50 cost:  0.16764095995608264 Validation cost: 0.3238235016152886\n",
      "Final cost: 0.16405151647983293\n"
     ]
    },
    {
     "data": {
      "image/png": "[encoded data removed]",
      "text/plain": [
       "<Figure size 432x288 with 1 Axes>"
      ]
     },
     "metadata": {
      "needs_background": "light"
     },
     "output_type": "display_data"
    }
   ],
   "source": [
    "layer_dims= [X_train.shape[0],64,64,classes]\n",
    "params,epoch_cost = NN_fit(X_train,Y_train,X_val,Y_val,layer_dims,0.1,'relu','xavier','nesterov',512,50)"
   ]
  },
  {
   "cell_type": "code",
   "execution_count": 49,
   "metadata": {},
   "outputs": [
    {
     "name": "stdout",
     "output_type": "stream",
     "text": [
      "              precision    recall  f1-score   support\n",
      "\n",
      "           0       0.85      0.84      0.85       707\n",
      "           1       0.97      0.99      0.98       712\n",
      "           2       0.81      0.83      0.82       696\n",
      "           3       0.90      0.89      0.90       731\n",
      "           4       0.82      0.81      0.81       682\n",
      "           5       0.97      0.97      0.97       744\n",
      "           6       0.71      0.72      0.72       664\n",
      "           7       0.96      0.95      0.95       694\n",
      "           8       0.97      0.97      0.97       679\n",
      "           9       0.95      0.95      0.95       691\n",
      "\n",
      "    accuracy                           0.89      7000\n",
      "   macro avg       0.89      0.89      0.89      7000\n",
      "weighted avg       0.89      0.89      0.89      7000\n",
      "\n"
     ]
    }
   ],
   "source": [
    "from sklearn.metrics import classification_report\n",
    "\n",
    "NN_evaluate(NN_predict(X_test,params,'relu'),Y_test)"
   ]
  },
  {
   "cell_type": "code",
   "execution_count": null,
   "metadata": {},
   "outputs": [],
   "source": []
  },
  {
   "cell_type": "code",
   "execution_count": null,
   "metadata": {},
   "outputs": [],
   "source": []
  }
 ],
 "metadata": {
  "kernelspec": {
   "display_name": "Python 3",
   "language": "python",
   "name": "python3"
  },
  "language_info": {
   "codemirror_mode": {
    "name": "ipython",
    "version": 3
   },
   "file_extension": ".py",
   "mimetype": "text/x-python",
   "name": "python",
   "nbconvert_exporter": "python",
   "pygments_lexer": "ipython3",
   "version": "3.7.1"
  }
 },
 "nbformat": 4,
 "nbformat_minor": 2
}
