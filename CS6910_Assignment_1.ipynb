{
  "nbformat": 4,
  "nbformat_minor": 0,
  "metadata": {
    "colab": {
      "name": "CS6910 Assignment 1.ipynb",
      "provenance": [],
      "collapsed_sections": []
    },
    "kernelspec": {
      "display_name": "Python 3",
      "name": "python3"
    }
  },
  "cells": [
    {
      "cell_type": "markdown",
      "metadata": {
        "id": "0J2rW7irVISu"
      },
      "source": [
        "#### Import libraries"
      ]
    },
    {
      "cell_type": "code",
      "metadata": {
        "colab": {
          "base_uri": "https://localhost:8080/"
        },
        "id": "WRxhb9DQWWMl",
        "outputId": "b6300bae-e880-490e-f143-b72cf384aa22"
      },
      "source": [
        "! pip install wandb"
      ],
      "execution_count": null,
      "outputs": [
        {
          "output_type": "stream",
          "text": [
            "Collecting wandb\n",
            "\u001b[?25l  Downloading https://files.pythonhosted.org/packages/6f/6b/4aacb6a29a52c2b2c27afe8ece383d0235a2ac8ec96b7257486f4e4328ea/wandb-0.10.20-py2.py3-none-any.whl (2.0MB)\n",
            "\u001b[K     |████████████████████████████████| 2.0MB 14.0MB/s \n",
            "\u001b[?25hRequirement already satisfied: PyYAML in /usr/local/lib/python3.7/dist-packages (from wandb) (3.13)\n",
            "Requirement already satisfied: python-dateutil>=2.6.1 in /usr/local/lib/python3.7/dist-packages (from wandb) (2.8.1)\n",
            "Requirement already satisfied: promise<3,>=2.0 in /usr/local/lib/python3.7/dist-packages (from wandb) (2.3)\n",
            "Collecting GitPython>=1.0.0\n",
            "\u001b[?25l  Downloading https://files.pythonhosted.org/packages/a6/99/98019716955ba243657daedd1de8f3a88ca1f5b75057c38e959db22fb87b/GitPython-3.1.14-py3-none-any.whl (159kB)\n",
            "\u001b[K     |████████████████████████████████| 163kB 54.6MB/s \n",
            "\u001b[?25hRequirement already satisfied: six>=1.13.0 in /usr/local/lib/python3.7/dist-packages (from wandb) (1.15.0)\n",
            "Collecting configparser>=3.8.1\n",
            "  Downloading https://files.pythonhosted.org/packages/fd/01/ff260a18caaf4457eb028c96eeb405c4a230ca06c8ec9c1379f813caa52e/configparser-5.0.2-py3-none-any.whl\n",
            "Collecting pathtools\n",
            "  Downloading https://files.pythonhosted.org/packages/e7/7f/470d6fcdf23f9f3518f6b0b76be9df16dcc8630ad409947f8be2eb0ed13a/pathtools-0.1.2.tar.gz\n",
            "Requirement already satisfied: requests<3,>=2.0.0 in /usr/local/lib/python3.7/dist-packages (from wandb) (2.23.0)\n",
            "Collecting docker-pycreds>=0.4.0\n",
            "  Downloading https://files.pythonhosted.org/packages/f5/e8/f6bd1eee09314e7e6dee49cbe2c5e22314ccdb38db16c9fc72d2fa80d054/docker_pycreds-0.4.0-py2.py3-none-any.whl\n",
            "Requirement already satisfied: psutil>=5.0.0 in /usr/local/lib/python3.7/dist-packages (from wandb) (5.4.8)\n",
            "Collecting subprocess32>=3.5.3\n",
            "\u001b[?25l  Downloading https://files.pythonhosted.org/packages/32/c8/564be4d12629b912ea431f1a50eb8b3b9d00f1a0b1ceff17f266be190007/subprocess32-3.5.4.tar.gz (97kB)\n",
            "\u001b[K     |████████████████████████████████| 102kB 7.7MB/s \n",
            "\u001b[?25hCollecting sentry-sdk>=0.4.0\n",
            "\u001b[?25l  Downloading https://files.pythonhosted.org/packages/15/74/59016eecaefa52443cd69cbb50e01851fa8bf3d9526771e2fae60ac6270c/sentry_sdk-0.20.3-py2.py3-none-any.whl (131kB)\n",
            "\u001b[K     |████████████████████████████████| 133kB 54.6MB/s \n",
            "\u001b[?25hRequirement already satisfied: protobuf>=3.12.0 in /usr/local/lib/python3.7/dist-packages (from wandb) (3.12.4)\n",
            "Collecting shortuuid>=0.5.0\n",
            "  Downloading https://files.pythonhosted.org/packages/25/a6/2ecc1daa6a304e7f1b216f0896b26156b78e7c38e1211e9b798b4716c53d/shortuuid-1.0.1-py3-none-any.whl\n",
            "Requirement already satisfied: Click>=7.0 in /usr/local/lib/python3.7/dist-packages (from wandb) (7.1.2)\n",
            "Collecting gitdb<5,>=4.0.1\n",
            "\u001b[?25l  Downloading https://files.pythonhosted.org/packages/48/11/d1800bca0a3bae820b84b7d813ad1eff15a48a64caea9c823fc8c1b119e8/gitdb-4.0.5-py3-none-any.whl (63kB)\n",
            "\u001b[K     |████████████████████████████████| 71kB 5.4MB/s \n",
            "\u001b[?25hRequirement already satisfied: chardet<4,>=3.0.2 in /usr/local/lib/python3.7/dist-packages (from requests<3,>=2.0.0->wandb) (3.0.4)\n",
            "Requirement already satisfied: urllib3!=1.25.0,!=1.25.1,<1.26,>=1.21.1 in /usr/local/lib/python3.7/dist-packages (from requests<3,>=2.0.0->wandb) (1.24.3)\n",
            "Requirement already satisfied: idna<3,>=2.5 in /usr/local/lib/python3.7/dist-packages (from requests<3,>=2.0.0->wandb) (2.10)\n",
            "Requirement already satisfied: certifi>=2017.4.17 in /usr/local/lib/python3.7/dist-packages (from requests<3,>=2.0.0->wandb) (2020.12.5)\n",
            "Requirement already satisfied: setuptools in /usr/local/lib/python3.7/dist-packages (from protobuf>=3.12.0->wandb) (53.0.0)\n",
            "Collecting smmap<4,>=3.0.1\n",
            "  Downloading https://files.pythonhosted.org/packages/d5/1e/6130925131f639b2acde0f7f18b73e33ce082ff2d90783c436b52040af5a/smmap-3.0.5-py2.py3-none-any.whl\n",
            "Building wheels for collected packages: pathtools, subprocess32\n",
            "  Building wheel for pathtools (setup.py) ... \u001b[?25l\u001b[?25hdone\n",
            "  Created wheel for pathtools: filename=pathtools-0.1.2-cp37-none-any.whl size=8786 sha256=349b3593c8fe97edf9fde770a97633b868cf91dd636704ef305f5bee815a4ebc\n",
            "  Stored in directory: /root/.cache/pip/wheels/0b/04/79/c3b0c3a0266a3cb4376da31e5bfe8bba0c489246968a68e843\n",
            "  Building wheel for subprocess32 (setup.py) ... \u001b[?25l\u001b[?25hdone\n",
            "  Created wheel for subprocess32: filename=subprocess32-3.5.4-cp37-none-any.whl size=6489 sha256=c692e42c38b378f957a51dbb279f1a352523e92343227637e035f7db6b604ba4\n",
            "  Stored in directory: /root/.cache/pip/wheels/68/39/1a/5e402bdfdf004af1786c8b853fd92f8c4a04f22aad179654d1\n",
            "Successfully built pathtools subprocess32\n",
            "Installing collected packages: smmap, gitdb, GitPython, configparser, pathtools, docker-pycreds, subprocess32, sentry-sdk, shortuuid, wandb\n",
            "Successfully installed GitPython-3.1.14 configparser-5.0.2 docker-pycreds-0.4.0 gitdb-4.0.5 pathtools-0.1.2 sentry-sdk-0.20.3 shortuuid-1.0.1 smmap-3.0.5 subprocess32-3.5.4 wandb-0.10.20\n"
          ],
          "name": "stdout"
        }
      ]
    },
    {
      "cell_type": "code",
      "metadata": {
        "id": "M7jmBIjlUoWo"
      },
      "source": [
        "import warnings\r\n",
        "import numpy as np\r\n",
        "import pandas as pd\r\n",
        "import matplotlib.pyplot as plt\r\n",
        "from keras.datasets import fashion_mnist\r\n",
        "warnings.filterwarnings(\"ignore\")\r\n",
        "import wandb"
      ],
      "execution_count": null,
      "outputs": []
    },
    {
      "cell_type": "code",
      "metadata": {
        "colab": {
          "base_uri": "https://localhost:8080/",
          "height": 648
        },
        "id": "WjoerVOKdqsi",
        "outputId": "935ad877-32e2-4afe-8a13-b215889098c4"
      },
      "source": [
        "wandb.init(project=\"dl_assignment1\", entity=\"ee17b154tony\", name=\"assignment_1\")"
      ],
      "execution_count": null,
      "outputs": [
        {
          "output_type": "display_data",
          "data": {
            "application/javascript": [
              "\n",
              "        window._wandbApiKey = new Promise((resolve, reject) => {\n",
              "            function loadScript(url) {\n",
              "            return new Promise(function(resolve, reject) {\n",
              "                let newScript = document.createElement(\"script\");\n",
              "                newScript.onerror = reject;\n",
              "                newScript.onload = resolve;\n",
              "                document.body.appendChild(newScript);\n",
              "                newScript.src = url;\n",
              "            });\n",
              "            }\n",
              "            loadScript(\"https://cdn.jsdelivr.net/npm/postmate/build/postmate.min.js\").then(() => {\n",
              "            const iframe = document.createElement('iframe')\n",
              "            iframe.style.cssText = \"width:0;height:0;border:none\"\n",
              "            document.body.appendChild(iframe)\n",
              "            const handshake = new Postmate({\n",
              "                container: iframe,\n",
              "                url: 'https://wandb.ai/authorize'\n",
              "            });\n",
              "            const timeout = setTimeout(() => reject(\"Couldn't auto authenticate\"), 5000)\n",
              "            handshake.then(function(child) {\n",
              "                child.on('authorize', data => {\n",
              "                    clearTimeout(timeout)\n",
              "                    resolve(data)\n",
              "                });\n",
              "            });\n",
              "            })\n",
              "        });\n",
              "    "
            ],
            "text/plain": [
              "<IPython.core.display.Javascript object>"
            ]
          },
          "metadata": {
            "tags": []
          }
        },
        {
          "output_type": "stream",
          "text": [
            "\u001b[34m\u001b[1mwandb\u001b[0m: You can find your API key in your browser here: https://wandb.ai/authorize\n"
          ],
          "name": "stderr"
        },
        {
          "output_type": "stream",
          "text": [
            "wandb: Paste an API key from your profile and hit enter: ··········\n"
          ],
          "name": "stdout"
        },
        {
          "output_type": "stream",
          "text": [
            "\u001b[34m\u001b[1mwandb\u001b[0m: Appending key for api.wandb.ai to your netrc file: /root/.netrc\n"
          ],
          "name": "stderr"
        },
        {
          "output_type": "display_data",
          "data": {
            "text/html": [
              "\n",
              "                Tracking run with wandb version 0.10.20<br/>\n",
              "                Syncing run <strong style=\"color:#cdcd00\">assignment_1</strong> to <a href=\"https://wandb.ai\" target=\"_blank\">Weights & Biases</a> <a href=\"https://docs.wandb.com/integrations/jupyter.html\" target=\"_blank\">(Documentation)</a>.<br/>\n",
              "                Project page: <a href=\"https://wandb.ai/ee17b154tony/dl_assignment1\" target=\"_blank\">https://wandb.ai/ee17b154tony/dl_assignment1</a><br/>\n",
              "                Run page: <a href=\"https://wandb.ai/ee17b154tony/dl_assignment1/runs/14yc395m\" target=\"_blank\">https://wandb.ai/ee17b154tony/dl_assignment1/runs/14yc395m</a><br/>\n",
              "                Run data is saved locally in <code>/content/wandb/run-20210302_022521-14yc395m</code><br/><br/>\n",
              "            "
            ],
            "text/plain": [
              "<IPython.core.display.HTML object>"
            ]
          },
          "metadata": {
            "tags": []
          }
        },
        {
          "output_type": "execute_result",
          "data": {
            "text/html": [
              "<h1>Run(14yc395m)</h1><iframe src=\"https://wandb.ai/ee17b154tony/dl_assignment1/runs/14yc395m\" style=\"border:none;width:100%;height:400px\"></iframe>"
            ],
            "text/plain": [
              "<wandb.sdk.wandb_run.Run at 0x7ff509df27d0>"
            ]
          },
          "metadata": {
            "tags": []
          },
          "execution_count": 3
        }
      ]
    },
    {
      "cell_type": "markdown",
      "metadata": {
        "id": "HjWCKvIkVp5r"
      },
      "source": [
        "#### Download data"
      ]
    },
    {
      "cell_type": "code",
      "metadata": {
        "id": "bixsCKMnVmmY"
      },
      "source": [
        "(X_train, y_train), (X_test, y_test) = fashion_mnist.load_data()"
      ],
      "execution_count": null,
      "outputs": []
    },
    {
      "cell_type": "code",
      "metadata": {
        "id": "dINMYRThaEBS"
      },
      "source": [
        "class_names = ['T-shirt/top', 'Trouser', 'Pullover', 'Dress', 'Coat',\r\n",
        "               'Sandal', 'Shirt', 'Sneaker', 'Bag', 'Ankle boot']"
      ],
      "execution_count": null,
      "outputs": []
    },
    {
      "cell_type": "code",
      "metadata": {
        "colab": {
          "base_uri": "https://localhost:8080/"
        },
        "id": "GQRZa7dDVpgi",
        "outputId": "eb384721-910d-457c-d58a-8da87801ae76"
      },
      "source": [
        "# Number of training examples\r\n",
        "M = X_train.shape[0]\r\n",
        "\r\n",
        "# Number of test examples\r\n",
        "Mtest = X_test.shape[0]\r\n",
        "\r\n",
        "# Number of features in the dataset\r\n",
        "num_features = X_train.shape[1] * X_train.shape[2]\r\n",
        "\r\n",
        "# Number of classes\r\n",
        "num_classes = len(np.unique(y_train))\r\n",
        "\r\n",
        "# One hot encoding for class labels\r\n",
        "y_train_one_hot = np.zeros((10, M))\r\n",
        "y_train_one_hot[y_train, np.array(list(range(M)))] = 1\r\n",
        "y_train_one_hot = y_train_one_hot.T\r\n",
        "\r\n",
        "y_test_one_hot = np.zeros((10, Mtest))\r\n",
        "y_test_one_hot[y_test, np.array(list(range(Mtest)))] = 1\r\n",
        "y_test_one_hot = y_test_one_hot.T\r\n",
        "\r\n",
        "print(\"Number of images in the training set =\", M)\r\n",
        "print(\"Number of images in the test set =\", Mtest)\r\n",
        "print(\"Number of classes =\", num_classes)\r\n",
        "print(\"Number of features per example =\", num_features)"
      ],
      "execution_count": null,
      "outputs": [
        {
          "output_type": "stream",
          "text": [
            "Number of images in the training set = 60000\n",
            "Number of images in the test set = 10000\n",
            "Number of classes = 10\n",
            "Number of features per example = 784\n"
          ],
          "name": "stdout"
        }
      ]
    },
    {
      "cell_type": "markdown",
      "metadata": {
        "id": "rYR7T7ZnYmBp"
      },
      "source": [
        "### Logging Sample Images"
      ]
    },
    {
      "cell_type": "code",
      "metadata": {
        "id": "dTcyI8f8V8kH"
      },
      "source": [
        "# Store the index of first occurrence of each class\r\n",
        "example_indices = [list(y_train).index(i) for i in range(num_classes)]\r\n",
        "\r\n",
        "# example_images is a list containing one sample image per class, example_captions stores the corresponsing captions\r\n",
        "example_images = []\r\n",
        "example_captions = []\r\n",
        "for index in example_indices:\r\n",
        "    example_images.append(X_train[index])\r\n",
        "    example_captions.append(class_names[y_train[index]])\r\n",
        "\r\n",
        "# Log one sample image of each class to wandb\r\n",
        "wandb.log({\"Sample Image from each class\": [wandb.Image(image, caption=caption) for image, caption in zip(example_images, example_captions)]})"
      ],
      "execution_count": null,
      "outputs": []
    },
    {
      "cell_type": "markdown",
      "metadata": {
        "id": "YsNV-0oNwvTv"
      },
      "source": [
        "### Number of neurons in the input and output layers"
      ]
    },
    {
      "cell_type": "code",
      "metadata": {
        "id": "HMu1LWJAam8g"
      },
      "source": [
        "input_nodes = num_features\r\n",
        "output_nodes = num_classes"
      ],
      "execution_count": null,
      "outputs": []
    },
    {
      "cell_type": "markdown",
      "metadata": {
        "id": "xczQae_C0Htr"
      },
      "source": [
        "### Activation Functions and Derivatives"
      ]
    },
    {
      "cell_type": "code",
      "metadata": {
        "id": "WNl7CMOD0HNJ"
      },
      "source": [
        "def tanh(x):\r\n",
        "    return np.tanh(x)\r\n",
        "\r\n",
        "def tanh_derivative(x):\r\n",
        "    # x is the tanh value\r\n",
        "    return (1 - (np.tanh(x)**2))\r\n",
        "\r\n",
        "def sigmoid(x):\r\n",
        "    return 1.0/(1+ np.exp(-x))\r\n",
        "\r\n",
        "def sigmoid_derivative(x):\r\n",
        "    return sigmoid(x) * (1.0 - sigmoid(x))\r\n",
        "\r\n",
        "def softmax(x):\r\n",
        "    \"\"\"Compute the softmax of vector x in a numerically stable way.\"\"\"\r\n",
        "    shiftx = x - np.max(x)\r\n",
        "    exps = np.exp(shiftx)\r\n",
        "    return exps / np.sum(exps)\r\n",
        "\r\n",
        "def ReLU(x):\r\n",
        "    return x * (x > 0)\r\n",
        "\r\n",
        "def ReLU_derivative(x):\r\n",
        "    return x>0"
      ],
      "execution_count": null,
      "outputs": []
    },
    {
      "cell_type": "markdown",
      "metadata": {
        "id": "psuJOVx316Xo"
      },
      "source": [
        "### Loss Function and its derivatives"
      ]
    },
    {
      "cell_type": "code",
      "metadata": {
        "id": "0mGBJouA15ni"
      },
      "source": [
        "def crossentropyloss(y, y_hat):\r\n",
        "    \"\"\"Categorical cross-entropy loss\"\"\"\r\n",
        "    return -np.sum(y.reshape(y_hat.shape) * np.log(y_hat))\r\n",
        "\r\n",
        "def crossentropyloss_derivative(y, y_hat):\r\n",
        "    \"\"\"Derivative of the cross entropy loss\"\"\"\r\n",
        "    return -np.divide(y, y_hat)"
      ],
      "execution_count": null,
      "outputs": []
    },
    {
      "cell_type": "markdown",
      "metadata": {
        "id": "YMulpov3736b"
      },
      "source": [
        "### Initialization"
      ]
    },
    {
      "cell_type": "code",
      "metadata": {
        "id": "2hRl4yBc7sX7"
      },
      "source": [
        "def initialize_parameters(layer_dims, initialization_option=\"random\"):\r\n",
        "    \"\"\"\r\n",
        "    This function is used to initialize the weights and biases of the network, using either 'random'\r\n",
        "    or 'xavier' or 'normal' initialization depending on the parameter: initialization_option\r\n",
        "\r\n",
        "    layer_dims is a list containing layer sizes (includes input and output layer).\r\n",
        "    \"\"\"\r\n",
        "    np.random.seed(42)\r\n",
        "    parameters = {} # Initialize parameter dictionary\r\n",
        "    \r\n",
        "    for i in range(1, len(layer_dims)):\r\n",
        "        if initialization_option==\"random\":\r\n",
        "          W = np.random.rand(layer_dims[i], layer_dims[i-1]) # uniform distribution\r\n",
        "\r\n",
        "        elif initialization_option == \"normal\":\r\n",
        "          W = np.random.randn(layer_dims[i], layer_dims[i-1]) # normal distribution\r\n",
        "\r\n",
        "        elif initialization_option==\"xavier\":\r\n",
        "          W = np.random.randn(layer_dims[i],layer_dims[i-1])*np.sqrt(2/(layer_dims[i]+layer_dims[i-1])) # glorot normal distribution / Xavier\r\n",
        "\r\n",
        "        # Initialize the biases with zeros\r\n",
        "        b = np.zeros((layer_dims[i], 1))\r\n",
        "        parameters[\"W\"+str(i)] = W\r\n",
        "        parameters[\"b\"+str(i)] = b\r\n",
        "    \r\n",
        "    return parameters"
      ],
      "execution_count": null,
      "outputs": []
    },
    {
      "cell_type": "markdown",
      "metadata": {
        "id": "EcwQYdkJJbV-"
      },
      "source": [
        "### Forward Propagation"
      ]
    },
    {
      "cell_type": "code",
      "metadata": {
        "id": "rISPK7RsJhC9"
      },
      "source": [
        "def forward_propagation(X, parameters, batch_size=1, act_function=\"sigmoid\"):\r\n",
        "    \"\"\"\r\n",
        "    Given inputs X, it performs forward propagation and returns the output.\r\n",
        "    \"\"\"\r\n",
        "    L = len(layer_dims) # total number of layers\r\n",
        "    H = [None]*L # activations\r\n",
        "    A = [None]*L # pre-activations\r\n",
        "    H[0] = X.reshape((num_features, batch_size))\r\n",
        "    \r\n",
        "    for l in range(1, L):\r\n",
        "        W = parameters[\"W\"+str(l)]\r\n",
        "        b = parameters[\"b\"+str(l)]\r\n",
        "        A[l] = np.dot(W, H[l-1]) + b # Computes the pre-activation\r\n",
        "        if l == L-1:\r\n",
        "            H[l] = softmax(A[l]) # activation function for output layers\r\n",
        "        else:\r\n",
        "            if act_function==\"sigmoid\":\r\n",
        "                H[l] = sigmoid(A[l])\r\n",
        "            elif act_function==\"tanh\":\r\n",
        "                H[l] = tanh(A[l])\r\n",
        "            elif act_function==\"relu\":\r\n",
        "                H[l] = ReLU(A[l])\r\n",
        "            \r\n",
        "    output = H[L-1]\r\n",
        "            \r\n",
        "    return output, H, A"
      ],
      "execution_count": null,
      "outputs": []
    },
    {
      "cell_type": "markdown",
      "metadata": {
        "id": "gMt-s-8PNwS1"
      },
      "source": [
        "### Backpropagation"
      ]
    },
    {
      "cell_type": "code",
      "metadata": {
        "id": "k5_DA--ytSIL"
      },
      "source": [
        "def backprop(y_hat, y, H, A, parameters, act_function=\"sigmoid\"):\r\n",
        "    gradients = {}\r\n",
        "\r\n",
        "    L = len(parameters)//2\r\n",
        "    \r\n",
        "    # Derivative of the loss function wrt A[L] \r\n",
        "    gradients[\"dA\"+str(L)] = y_hat - y.reshape(-1, 1)   \r\n",
        "\r\n",
        "    for l in range(L, 0, -1):\r\n",
        "        gradients[\"dW\"+str(l)] = np.dot(gradients[\"dA\"+str(l)], H[l-1].T)\r\n",
        "        gradients[\"db\"+str(l)] = gradients[\"dA\"+str(l)]\r\n",
        "        gradients[\"dH\"+str(l-1)] = np.dot(parameters[\"W\"+str(l)].T, gradients[\"dA\"+str(l)])\r\n",
        "\r\n",
        "        if l > 1:\r\n",
        "            if act_function==\"sigmoid\":\r\n",
        "                gradients[\"dA\"+str(l-1)] = np.multiply(gradients[\"dH\"+str(l-1)], sigmoid_derivative(A[l-1]))\r\n",
        "            elif act_function==\"tanh\":\r\n",
        "                gradients[\"dA\"+str(l-1)] = np.multiply(gradients[\"dH\"+str(l-1)], tanh_derivative(A[l-1]))\r\n",
        "            elif act_function==\"relu\":\r\n",
        "                gradients[\"dA\"+str(l-1)] = np.multiply(gradients[\"dH\"+str(l-1)], ReLU_derivative(A[l-1]))\r\n",
        "        \r\n",
        "    return gradients"
      ],
      "execution_count": null,
      "outputs": []
    },
    {
      "cell_type": "markdown",
      "metadata": {
        "id": "OWgzQqPy1R9q"
      },
      "source": [
        "### Updating parameters"
      ]
    },
    {
      "cell_type": "code",
      "metadata": {
        "id": "vsU0RrF6zlFX"
      },
      "source": [
        "def update_parameters_sgd(parameters, grads, learning_rate):\r\n",
        "    L = len(parameters) // 2 # number of layers in the neural network\r\n",
        "\r\n",
        "    for l in range(1, L + 1):\r\n",
        "        parameters[\"W\" + str(l)] = parameters[\"W\" + str(l)] - learning_rate * grads[\"dW\" + str(l)]\r\n",
        "        parameters[\"b\" + str(l)] = parameters[\"b\" + str(l)] - learning_rate * grads[\"db\" + str(l)]\r\n",
        "\r\n",
        "    return parameters\r\n",
        "\r\n",
        "def update_parameters_momentum(parameters, grads, learning_rate, beta, previous_updates):\r\n",
        "    L = len(parameters) // 2 # number of layers in the neural network\r\n",
        "\r\n",
        "    for l in range(1, L + 1):\r\n",
        "        previous_updates[\"W\"+str(l)] = beta*previous_updates[\"W\"+str(l)] + (1-beta)*grads[\"dW\" + str(l)]\r\n",
        "        parameters[\"W\" + str(l)] = parameters[\"W\" + str(l)] - learning_rate*previous_updates[\"W\"+str(l)]\r\n",
        "        \r\n",
        "        previous_updates[\"b\"+str(l)] = beta*previous_updates[\"b\"+str(l)] + (1-beta)*grads[\"db\" + str(l)]\r\n",
        "        parameters[\"b\" + str(l)] = parameters[\"b\" + str(l)] - learning_rate*previous_updates[\"b\"+str(l)]\r\n",
        "\r\n",
        "    return parameters, previous_updates"
      ],
      "execution_count": null,
      "outputs": []
    },
    {
      "cell_type": "code",
      "metadata": {
        "id": "6PKa0Q1e1v_G"
      },
      "source": [
        "def NN_model(X_train, y_train, X_test, y_test, layer_dims, learning_rate=0.001, beta=0.9,max_epochs=500):\r\n",
        "    parameters = initialize_parameters(layer_dims)\r\n",
        "    \r\n",
        "    epoch_cost = [] # average training cost at the end of every epoch\r\n",
        "    \r\n",
        "    prev_epoch_cost = 100000 # some large initial value\r\n",
        "    curr_epoch_cost = 0\r\n",
        "    \r\n",
        "    validation_epoch_cost = [] # average validation cost at the end of every epoch\r\n",
        "    \r\n",
        "    count=1 # keeps track of the number of epochs\r\n",
        "    # An epoch is one complete pass through the training data\r\n",
        "\r\n",
        "    while abs(prev_epoch_cost-curr_epoch_cost) > 1e-7 and count<=max_epochs:\r\n",
        "        costs = []# training costs\r\n",
        "        val_costs = []# validation costs\r\n",
        "        count+=1# increment the number of epochs\r\n",
        "        for i in range(len(X_train)):\r\n",
        "            output, H, A = forward_propagation(X_train[i], parameters, act_function=\"sigmoid\")\r\n",
        "            cost = crossentropyloss(y_train[i], output)\r\n",
        "            gradients = backprop(output, y_train[i], H, A, parameters, act_function=\"sigmoid\")\r\n",
        "\r\n",
        "            # print(gradients)\r\n",
        "\r\n",
        "            parameters = update_parameters_sgd(parameters, gradients, learning_rate)\r\n",
        "\r\n",
        "            # parameters, previous_updates = update_parameters_momentum(\r\n",
        "            #                                                     parameters, gradients, learning_rate, beta,\r\n",
        "            #                                                     previous_updates)\r\n",
        "            costs.append(cost)\r\n",
        "            \r\n",
        "        # vaidation part (these examples do not contribute to parameter update)\r\n",
        "        # therefore, the 'model' has still not seen these examples.\r\n",
        "        for j in range(len(X_test)):\r\n",
        "            out, _, _ = forward_propagation(X_test[j], parameters)\r\n",
        "            cost = crossentropyloss(y_test[j], out)\r\n",
        "            val_costs.append(cost)\r\n",
        "            \r\n",
        "        # average training loss for one epoch\r\n",
        "        curr_epoch_cost = sum(costs)/len(X_train)\r\n",
        "        if len(epoch_cost) >= 1:\r\n",
        "            prev_epoch_cost = epoch_cost[-1]\r\n",
        "        epoch_cost.append(curr_epoch_cost)\r\n",
        "        print(\"Current_epoch cost =\", curr_epoch_cost)\r\n",
        "        # average validation loss for one epoch\r\n",
        "        validation_epoch_cost.append(sum(val_costs)/len(X_test))\r\n",
        "        \r\n",
        "    plot_cost_curve(epoch_cost, validation_epoch_cost)\r\n",
        "    return parameters, epoch_cost"
      ],
      "execution_count": null,
      "outputs": []
    },
    {
      "cell_type": "markdown",
      "metadata": {
        "id": "Zt_1_w8yX9RU"
      },
      "source": [
        "#### Plot Cost Curve"
      ]
    },
    {
      "cell_type": "code",
      "metadata": {
        "id": "KedRZbF5X9x6"
      },
      "source": [
        "def plot_cost_curve(train_costs, val_costs):\r\n",
        "    plt.plot(list(range(len(train_costs))), train_costs, 'r', label=\"Training loss\")\r\n",
        "    plt.plot(list(range(len(val_costs))), val_costs, 'lime', label=\"Validation loss\")\r\n",
        "    plt.title(\"Training Loss vs Number of Epochs\", size=18)\r\n",
        "    plt.xlabel(\"Number of epochs\", size=14)\r\n",
        "    plt.ylabel(\"Loss\", size=14)\r\n",
        "    plt.grid()\r\n",
        "    plt.legend()\r\n",
        "    plt.show()"
      ],
      "execution_count": null,
      "outputs": []
    },
    {
      "cell_type": "markdown",
      "metadata": {
        "id": "dvUhP11LHJZB"
      },
      "source": [
        "### Predictions and Accuracy"
      ]
    },
    {
      "cell_type": "code",
      "metadata": {
        "id": "XRX37lf7HI32"
      },
      "source": [
        "def predict(X, parameters):\r\n",
        "    # X here is one training example\r\n",
        "    pred, _, _ = forward_propagation(X, parameters)\r\n",
        "    return pred\r\n",
        "\r\n",
        "def predictions(X, parameters):\r\n",
        "    # X is an array of many training examples\r\n",
        "    y_pred = np.zeros(len(X))\r\n",
        "    for i in range(len(X)):\r\n",
        "        y_pred[i] = np.argmax(predict(X[i], parameters))\r\n",
        "    return y_pred\r\n",
        "        \r\n",
        "def model_accuracy(predictions, y_truth):\r\n",
        "    return np.mean(predictions == y_truth)*100"
      ],
      "execution_count": null,
      "outputs": []
    },
    {
      "cell_type": "code",
      "metadata": {
        "colab": {
          "base_uri": "https://localhost:8080/",
          "height": 354
        },
        "id": "b4sja1ytHUP-",
        "outputId": "ebbf70a3-f32b-45cf-de99-ee809b97d709"
      },
      "source": [
        "layer_dims = [input_nodes, 32, 32, 32, output_nodes]\r\n",
        "parameters, epoch_cost = NN_model(X_train, y_train_one_hot, X_test, y_test_one_hot, layer_dims, learning_rate=0.01, max_epochs=2000)"
      ],
      "execution_count": null,
      "outputs": [
        {
          "output_type": "stream",
          "text": [
            "Current_epoch cost = 2.37927494799264\n",
            "Current_epoch cost = 2.3789594263967584\n",
            "Current_epoch cost = 2.378959426383531\n"
          ],
          "name": "stdout"
        },
        {
          "output_type": "display_data",
          "data": {
            "image/png": "[encoded data removed]",
            "text/plain": [
              "<Figure size 432x288 with 1 Axes>"
            ]
          },
          "metadata": {
            "tags": [],
            "needs_background": "light"
          }
        }
      ]
    },
    {
      "cell_type": "code",
      "metadata": {
        "colab": {
          "base_uri": "https://localhost:8080/"
        },
        "id": "v3nr2axRew7x",
        "outputId": "e12ea318-21be-40a3-d445-28a730c2e08c"
      },
      "source": [
        "epoch_cost"
      ],
      "execution_count": null,
      "outputs": [
        {
          "output_type": "execute_result",
          "data": {
            "text/plain": [
              "[nan]"
            ]
          },
          "metadata": {
            "tags": []
          },
          "execution_count": 128
        }
      ]
    },
    {
      "cell_type": "code",
      "metadata": {
        "colab": {
          "base_uri": "https://localhost:8080/"
        },
        "id": "EVNG6uwgHZiZ",
        "outputId": "eb3dfe6f-8bca-4574-e8a4-2b4f0d4d5bf2"
      },
      "source": [
        "y_pred_train = predictions(X_train, parameters)\r\n",
        "print(\"Training accuracy = {}%\".format(round(model_accuracy(y_pred_train,y_train), 3)))\r\n",
        "\r\n",
        "y_pred_test = predictions(X_test, parameters)\r\n",
        "print(\"Test accuracy = {}%\".format(round(model_accuracy(y_pred_test, y_test), 3)))"
      ],
      "execution_count": null,
      "outputs": [
        {
          "output_type": "stream",
          "text": [
            "Training accuracy = 10.0%\n",
            "Test accuracy = 10.0%\n"
          ],
          "name": "stdout"
        }
      ]
    },
    {
      "cell_type": "code",
      "metadata": {
        "colab": {
          "base_uri": "https://localhost:8080/"
        },
        "id": "Xc_kCj24F9SC",
        "outputId": "4c537084-2e07-44a4-f12f-6dcee9f7cf3c"
      },
      "source": [
        "y_pred_train"
      ],
      "execution_count": null,
      "outputs": [
        {
          "output_type": "execute_result",
          "data": {
            "text/plain": [
              "array([4., 4., 4., ..., 4., 4., 4.])"
            ]
          },
          "metadata": {
            "tags": []
          },
          "execution_count": 103
        }
      ]
    },
    {
      "cell_type": "code",
      "metadata": {
        "id": "hXXfm4bTF_zS"
      },
      "source": [
        ""
      ],
      "execution_count": null,
      "outputs": []
    }
  ]
}