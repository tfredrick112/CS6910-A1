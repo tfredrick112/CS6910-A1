{
  "nbformat": 4,
  "nbformat_minor": 0,
  "metadata": {
    "colab": {
      "name": "CS6910 Assignment 1.ipynb",
      "provenance": [],
      "collapsed_sections": []
    },
    "kernelspec": {
      "display_name": "Python 3",
      "name": "python3"
    }
  },
  "cells": [
    {
      "cell_type": "markdown",
      "metadata": {
        "id": "0J2rW7irVISu"
      },
      "source": [
        "#### Import libraries"
      ]
    },
    {
      "cell_type": "code",
      "metadata": {
        "colab": {
          "base_uri": "https://localhost:8080/"
        },
        "id": "WRxhb9DQWWMl",
        "outputId": "424bd374-2f2c-4cd2-fae7-8fa44f0a30fc"
      },
      "source": [
        "! pip install wandb"
      ],
      "execution_count": 1,
      "outputs": [
        {
          "output_type": "stream",
          "text": [
            "Collecting wandb\n",
            "\u001b[?25l  Downloading https://files.pythonhosted.org/packages/00/17/b1e27f77c3d47f6915a774ecf632e3f5a7d49d9fa3991547729e7f19bedd/wandb-0.10.21-py2.py3-none-any.whl (2.0MB)\n",
            "\u001b[K     |████████████████████████████████| 2.0MB 13.8MB/s \n",
            "\u001b[?25hCollecting subprocess32>=3.5.3\n",
            "\u001b[?25l  Downloading https://files.pythonhosted.org/packages/32/c8/564be4d12629b912ea431f1a50eb8b3b9d00f1a0b1ceff17f266be190007/subprocess32-3.5.4.tar.gz (97kB)\n",
            "\u001b[K     |████████████████████████████████| 102kB 8.9MB/s \n",
            "\u001b[?25hCollecting configparser>=3.8.1\n",
            "  Downloading https://files.pythonhosted.org/packages/fd/01/ff260a18caaf4457eb028c96eeb405c4a230ca06c8ec9c1379f813caa52e/configparser-5.0.2-py3-none-any.whl\n",
            "Requirement already satisfied: python-dateutil>=2.6.1 in /usr/local/lib/python3.7/dist-packages (from wandb) (2.8.1)\n",
            "Requirement already satisfied: PyYAML in /usr/local/lib/python3.7/dist-packages (from wandb) (3.13)\n",
            "Requirement already satisfied: Click>=7.0 in /usr/local/lib/python3.7/dist-packages (from wandb) (7.1.2)\n",
            "Collecting sentry-sdk>=0.4.0\n",
            "\u001b[?25l  Downloading https://files.pythonhosted.org/packages/f3/92/5a33be64990ba815364a8f2dd9e6f51de60d23dfddafb4f1fc5577d4dc64/sentry_sdk-1.0.0-py2.py3-none-any.whl (131kB)\n",
            "\u001b[K     |████████████████████████████████| 133kB 41.5MB/s \n",
            "\u001b[?25hRequirement already satisfied: requests<3,>=2.0.0 in /usr/local/lib/python3.7/dist-packages (from wandb) (2.23.0)\n",
            "Requirement already satisfied: psutil>=5.0.0 in /usr/local/lib/python3.7/dist-packages (from wandb) (5.4.8)\n",
            "Collecting shortuuid>=0.5.0\n",
            "  Downloading https://files.pythonhosted.org/packages/25/a6/2ecc1daa6a304e7f1b216f0896b26156b78e7c38e1211e9b798b4716c53d/shortuuid-1.0.1-py3-none-any.whl\n",
            "Collecting pathtools\n",
            "  Downloading https://files.pythonhosted.org/packages/e7/7f/470d6fcdf23f9f3518f6b0b76be9df16dcc8630ad409947f8be2eb0ed13a/pathtools-0.1.2.tar.gz\n",
            "Collecting GitPython>=1.0.0\n",
            "\u001b[?25l  Downloading https://files.pythonhosted.org/packages/a6/99/98019716955ba243657daedd1de8f3a88ca1f5b75057c38e959db22fb87b/GitPython-3.1.14-py3-none-any.whl (159kB)\n",
            "\u001b[K     |████████████████████████████████| 163kB 43.8MB/s \n",
            "\u001b[?25hRequirement already satisfied: protobuf>=3.12.0 in /usr/local/lib/python3.7/dist-packages (from wandb) (3.12.4)\n",
            "Collecting docker-pycreds>=0.4.0\n",
            "  Downloading https://files.pythonhosted.org/packages/f5/e8/f6bd1eee09314e7e6dee49cbe2c5e22314ccdb38db16c9fc72d2fa80d054/docker_pycreds-0.4.0-py2.py3-none-any.whl\n",
            "Requirement already satisfied: promise<3,>=2.0 in /usr/local/lib/python3.7/dist-packages (from wandb) (2.3)\n",
            "Requirement already satisfied: six>=1.13.0 in /usr/local/lib/python3.7/dist-packages (from wandb) (1.15.0)\n",
            "Requirement already satisfied: certifi in /usr/local/lib/python3.7/dist-packages (from sentry-sdk>=0.4.0->wandb) (2020.12.5)\n",
            "Requirement already satisfied: urllib3>=1.10.0 in /usr/local/lib/python3.7/dist-packages (from sentry-sdk>=0.4.0->wandb) (1.24.3)\n",
            "Requirement already satisfied: chardet<4,>=3.0.2 in /usr/local/lib/python3.7/dist-packages (from requests<3,>=2.0.0->wandb) (3.0.4)\n",
            "Requirement already satisfied: idna<3,>=2.5 in /usr/local/lib/python3.7/dist-packages (from requests<3,>=2.0.0->wandb) (2.10)\n",
            "Collecting gitdb<5,>=4.0.1\n",
            "\u001b[?25l  Downloading https://files.pythonhosted.org/packages/48/11/d1800bca0a3bae820b84b7d813ad1eff15a48a64caea9c823fc8c1b119e8/gitdb-4.0.5-py3-none-any.whl (63kB)\n",
            "\u001b[K     |████████████████████████████████| 71kB 7.2MB/s \n",
            "\u001b[?25hRequirement already satisfied: setuptools in /usr/local/lib/python3.7/dist-packages (from protobuf>=3.12.0->wandb) (54.0.0)\n",
            "Collecting smmap<4,>=3.0.1\n",
            "  Downloading https://files.pythonhosted.org/packages/d5/1e/6130925131f639b2acde0f7f18b73e33ce082ff2d90783c436b52040af5a/smmap-3.0.5-py2.py3-none-any.whl\n",
            "Building wheels for collected packages: subprocess32, pathtools\n",
            "  Building wheel for subprocess32 (setup.py) ... \u001b[?25l\u001b[?25hdone\n",
            "  Created wheel for subprocess32: filename=subprocess32-3.5.4-cp37-none-any.whl size=6489 sha256=b3db0c60cb64c3ae585690e653dd9da4735ad3aa47f4d25b05ccc759ea86ba07\n",
            "  Stored in directory: /root/.cache/pip/wheels/68/39/1a/5e402bdfdf004af1786c8b853fd92f8c4a04f22aad179654d1\n",
            "  Building wheel for pathtools (setup.py) ... \u001b[?25l\u001b[?25hdone\n",
            "  Created wheel for pathtools: filename=pathtools-0.1.2-cp37-none-any.whl size=8786 sha256=4a69dc15dc2d24d932cbd3a5c13eceab1916b27c9ef596270fda20d767fee70c\n",
            "  Stored in directory: /root/.cache/pip/wheels/0b/04/79/c3b0c3a0266a3cb4376da31e5bfe8bba0c489246968a68e843\n",
            "Successfully built subprocess32 pathtools\n",
            "Installing collected packages: subprocess32, configparser, sentry-sdk, shortuuid, pathtools, smmap, gitdb, GitPython, docker-pycreds, wandb\n",
            "Successfully installed GitPython-3.1.14 configparser-5.0.2 docker-pycreds-0.4.0 gitdb-4.0.5 pathtools-0.1.2 sentry-sdk-1.0.0 shortuuid-1.0.1 smmap-3.0.5 subprocess32-3.5.4 wandb-0.10.21\n"
          ],
          "name": "stdout"
        }
      ]
    },
    {
      "cell_type": "code",
      "metadata": {
        "id": "M7jmBIjlUoWo"
      },
      "source": [
        "import warnings\r\n",
        "import numpy as np\r\n",
        "import pandas as pd\r\n",
        "import matplotlib.pyplot as plt\r\n",
        "from keras.datasets import fashion_mnist\r\n",
        "warnings.filterwarnings(\"ignore\")\r\n",
        "import wandb"
      ],
      "execution_count": 2,
      "outputs": []
    },
    {
      "cell_type": "code",
      "metadata": {
        "colab": {
          "base_uri": "https://localhost:8080/",
          "height": 596
        },
        "id": "WjoerVOKdqsi",
        "outputId": "1e29f418-a563-491c-e7de-bf9a690f67e8"
      },
      "source": [
        "wandb.init(project=\"dl_assignment1\", entity=\"ee17b154tony\", name=\"assignment_1\")"
      ],
      "execution_count": 4,
      "outputs": [
        {
          "output_type": "stream",
          "text": [
            "\u001b[34m\u001b[1mwandb\u001b[0m: Currently logged in as: \u001b[33mdjbagadthey\u001b[0m (use `wandb login --relogin` to force relogin)\n"
          ],
          "name": "stderr"
        },
        {
          "output_type": "display_data",
          "data": {
            "text/html": [
              "\n",
              "                Tracking run with wandb version 0.10.21<br/>\n",
              "                Syncing run <strong style=\"color:#cdcd00\">assignment_1</strong> to <a href=\"https://wandb.ai\" target=\"_blank\">Weights & Biases</a> <a href=\"https://docs.wandb.com/integrations/jupyter.html\" target=\"_blank\">(Documentation)</a>.<br/>\n",
              "                Project page: <a href=\"https://wandb.ai/djbagadthey/dl_assignment1\" target=\"_blank\">https://wandb.ai/djbagadthey/dl_assignment1</a><br/>\n",
              "                Run page: <a href=\"https://wandb.ai/djbagadthey/dl_assignment1/runs/2l6brycp\" target=\"_blank\">https://wandb.ai/djbagadthey/dl_assignment1/runs/2l6brycp</a><br/>\n",
              "                Run data is saved locally in <code>/content/wandb/run-20210304_040055-2l6brycp</code><br/><br/>\n",
              "            "
            ],
            "text/plain": [
              "<IPython.core.display.HTML object>"
            ]
          },
          "metadata": {
            "tags": []
          }
        },
        {
          "output_type": "execute_result",
          "data": {
            "text/plain": [
              "<wandb.sdk.wandb_run.Run at 0x7fa5f8d6e750>"
            ],
            "text/html": [
              "<h1>Run(2l6brycp)</h1><iframe src=\"https://wandb.ai/djbagadthey/dl_assignment1/runs/2l6brycp\" style=\"border:none;width:100%;height:400px\"></iframe>"
            ]
          },
          "metadata": {
            "tags": []
          },
          "execution_count": 4
        }
      ]
    },
    {
      "cell_type": "markdown",
      "metadata": {
        "id": "HjWCKvIkVp5r"
      },
      "source": [
        "#### Download data"
      ]
    },
    {
      "cell_type": "code",
      "metadata": {
        "colab": {
          "base_uri": "https://localhost:8080/"
        },
        "id": "bixsCKMnVmmY",
        "outputId": "725f90ac-6805-4762-eafa-e91f3239a5c9"
      },
      "source": [
        "(X_train, y_train), (X_test, y_test) = fashion_mnist.load_data()"
      ],
      "execution_count": 5,
      "outputs": [
        {
          "output_type": "stream",
          "text": [
            "Downloading data from https://storage.googleapis.com/tensorflow/tf-keras-datasets/train-labels-idx1-ubyte.gz\n",
            "32768/29515 [=================================] - 0s 0us/step\n",
            "Downloading data from https://storage.googleapis.com/tensorflow/tf-keras-datasets/train-images-idx3-ubyte.gz\n",
            "26427392/26421880 [==============================] - 0s 0us/step\n",
            "Downloading data from https://storage.googleapis.com/tensorflow/tf-keras-datasets/t10k-labels-idx1-ubyte.gz\n",
            "8192/5148 [===============================================] - 0s 0us/step\n",
            "Downloading data from https://storage.googleapis.com/tensorflow/tf-keras-datasets/t10k-images-idx3-ubyte.gz\n",
            "4423680/4422102 [==============================] - 0s 0us/step\n"
          ],
          "name": "stdout"
        }
      ]
    },
    {
      "cell_type": "code",
      "metadata": {
        "id": "dINMYRThaEBS"
      },
      "source": [
        "class_names = ['T-shirt/top', 'Trouser', 'Pullover', 'Dress', 'Coat',\r\n",
        "               'Sandal', 'Shirt', 'Sneaker', 'Bag', 'Ankle boot']"
      ],
      "execution_count": 6,
      "outputs": []
    },
    {
      "cell_type": "code",
      "metadata": {
        "colab": {
          "base_uri": "https://localhost:8080/"
        },
        "id": "yFQWcmriZHFM",
        "outputId": "3305d9e1-61b8-4406-ec50-6c1ee4d05ed5"
      },
      "source": [
        "X_train[1]"
      ],
      "execution_count": 7,
      "outputs": [
        {
          "output_type": "execute_result",
          "data": {
            "text/plain": [
              "array([[  0,   0,   0,   0,   0,   1,   0,   0,   0,   0,  41, 188, 103,\n",
              "         54,  48,  43,  87, 168, 133,  16,   0,   0,   0,   0,   0,   0,\n",
              "          0,   0],\n",
              "       [  0,   0,   0,   1,   0,   0,   0,  49, 136, 219, 216, 228, 236,\n",
              "        255, 255, 255, 255, 217, 215, 254, 231, 160,  45,   0,   0,   0,\n",
              "          0,   0],\n",
              "       [  0,   0,   0,   0,   0,  14, 176, 222, 224, 212, 203, 198, 196,\n",
              "        200, 215, 204, 202, 201, 201, 201, 209, 218, 224, 164,   0,   0,\n",
              "          0,   0],\n",
              "       [  0,   0,   0,   0,   0, 188, 219, 200, 198, 202, 198, 199, 199,\n",
              "        201, 196, 198, 198, 200, 200, 200, 200, 201, 200, 225,  41,   0,\n",
              "          0,   0],\n",
              "       [  0,   0,   0,   0,  51, 219, 199, 203, 203, 212, 238, 248, 250,\n",
              "        245, 249, 246, 247, 252, 248, 235, 207, 203, 203, 222, 140,   0,\n",
              "          0,   0],\n",
              "       [  0,   0,   0,   0, 116, 226, 206, 204, 207, 204, 101,  75,  47,\n",
              "         73,  48,  50,  45,  51,  63, 113, 222, 202, 206, 220, 224,   0,\n",
              "          0,   0],\n",
              "       [  0,   0,   0,   0, 200, 222, 209, 203, 215, 200,   0,  70,  98,\n",
              "          0, 103,  59,  68,  71,  49,   0, 219, 206, 214, 210, 250,  38,\n",
              "          0,   0],\n",
              "       [  0,   0,   0,   0, 247, 218, 212, 210, 215, 214,   0, 254, 243,\n",
              "        139, 255, 174, 251, 255, 205,   0, 215, 217, 214, 208, 220,  95,\n",
              "          0,   0],\n",
              "       [  0,   0,   0,  45, 226, 214, 214, 215, 224, 205,   0,  42,  35,\n",
              "         60,  16,  17,  12,  13,  70,   0, 189, 216, 212, 206, 212, 156,\n",
              "          0,   0],\n",
              "       [  0,   0,   0, 164, 235, 214, 211, 220, 216, 201,  52,  71,  89,\n",
              "         94,  83,  78,  70,  76,  92,  87, 206, 207, 222, 213, 219, 208,\n",
              "          0,   0],\n",
              "       [  0,   0,   0, 106, 187, 223, 237, 248, 211, 198, 252, 250, 248,\n",
              "        245, 248, 252, 253, 250, 252, 239, 201, 212, 225, 215, 193, 113,\n",
              "          0,   0],\n",
              "       [  0,   0,   0,   0,   0,  17,  54, 159, 222, 193, 208, 192, 197,\n",
              "        200, 200, 200, 200, 201, 203, 195, 210, 165,   0,   0,   0,   0,\n",
              "          0,   0],\n",
              "       [  0,   0,   0,   0,   0,   0,   0,  47, 225, 192, 214, 203, 206,\n",
              "        204, 204, 205, 206, 204, 212, 197, 218, 107,   0,   0,   0,   0,\n",
              "          0,   0],\n",
              "       [  0,   0,   0,   0,   1,   6,   0,  46, 212, 195, 212, 202, 206,\n",
              "        205, 204, 205, 206, 204, 212, 200, 218,  91,   0,   3,   1,   0,\n",
              "          0,   0],\n",
              "       [  0,   0,   0,   0,   0,   1,   0,  11, 197, 199, 205, 202, 205,\n",
              "        206, 204, 205, 207, 204, 205, 205, 218,  77,   0,   5,   0,   0,\n",
              "          0,   0],\n",
              "       [  0,   0,   0,   0,   0,   3,   0,   2, 191, 198, 201, 205, 206,\n",
              "        205, 205, 206, 209, 206, 199, 209, 219,  74,   0,   5,   0,   0,\n",
              "          0,   0],\n",
              "       [  0,   0,   0,   0,   0,   2,   0,   0, 188, 197, 200, 207, 207,\n",
              "        204, 207, 207, 210, 208, 198, 207, 221,  72,   0,   4,   0,   0,\n",
              "          0,   0],\n",
              "       [  0,   0,   0,   0,   0,   2,   0,   0, 215, 198, 203, 206, 208,\n",
              "        205, 207, 207, 210, 208, 200, 202, 222,  75,   0,   4,   0,   0,\n",
              "          0,   0],\n",
              "       [  0,   0,   0,   0,   0,   1,   0,   0, 212, 198, 209, 206, 209,\n",
              "        206, 208, 207, 211, 206, 205, 198, 221,  80,   0,   3,   0,   0,\n",
              "          0,   0],\n",
              "       [  0,   0,   0,   0,   0,   1,   0,   0, 204, 201, 205, 208, 207,\n",
              "        205, 211, 205, 210, 210, 209, 195, 221,  96,   0,   3,   0,   0,\n",
              "          0,   0],\n",
              "       [  0,   0,   0,   0,   0,   1,   0,   0, 202, 201, 205, 209, 207,\n",
              "        205, 213, 206, 210, 209, 210, 194, 217, 105,   0,   2,   0,   0,\n",
              "          0,   0],\n",
              "       [  0,   0,   0,   0,   0,   1,   0,   0, 204, 204, 205, 208, 207,\n",
              "        205, 215, 207, 210, 208, 211, 193, 213, 115,   0,   2,   0,   0,\n",
              "          0,   0],\n",
              "       [  0,   0,   0,   0,   0,   0,   0,   0, 204, 207, 207, 208, 206,\n",
              "        206, 215, 210, 210, 207, 212, 195, 210, 118,   0,   2,   0,   0,\n",
              "          0,   0],\n",
              "       [  0,   0,   0,   0,   0,   1,   0,   0, 198, 208, 208, 208, 204,\n",
              "        207, 212, 212, 210, 207, 211, 196, 207, 121,   0,   1,   0,   0,\n",
              "          0,   0],\n",
              "       [  0,   0,   0,   0,   0,   1,   0,   0, 198, 210, 207, 208, 206,\n",
              "        209, 213, 212, 211, 207, 210, 197, 207, 124,   0,   1,   0,   0,\n",
              "          0,   0],\n",
              "       [  0,   0,   0,   0,   0,   0,   0,   0, 172, 210, 203, 201, 199,\n",
              "        204, 207, 205, 204, 201, 205, 197, 206, 127,   0,   0,   0,   0,\n",
              "          0,   0],\n",
              "       [  0,   0,   0,   0,   0,   0,   0,   0, 188, 221, 214, 234, 236,\n",
              "        238, 244, 244, 244, 240, 243, 214, 224, 162,   0,   2,   0,   0,\n",
              "          0,   0],\n",
              "       [  0,   0,   0,   0,   0,   1,   0,   0, 139, 146, 130, 135, 135,\n",
              "        137, 125, 124, 125, 121, 119, 114, 130,  76,   0,   0,   0,   0,\n",
              "          0,   0]], dtype=uint8)"
            ]
          },
          "metadata": {
            "tags": []
          },
          "execution_count": 7
        }
      ]
    },
    {
      "cell_type": "code",
      "metadata": {
        "colab": {
          "base_uri": "https://localhost:8080/"
        },
        "id": "GQRZa7dDVpgi",
        "outputId": "be1884ce-1abf-4565-e243-8d4c5751879a"
      },
      "source": [
        "# Number of training examples\r\n",
        "M = X_train.shape[0]\r\n",
        "\r\n",
        "# Number of test examples\r\n",
        "Mtest = X_test.shape[0]\r\n",
        "\r\n",
        "# Number of features in the dataset\r\n",
        "num_features = X_train.shape[1] * X_train.shape[2]\r\n",
        "\r\n",
        "# Number of classes\r\n",
        "num_classes = len(np.unique(y_train))\r\n",
        "\r\n",
        "# One hot encoding for class labels\r\n",
        "y_train_one_hot = np.zeros((10, M))\r\n",
        "y_train_one_hot[y_train, np.array(list(range(M)))] = 1\r\n",
        "y_train_one_hot = y_train_one_hot.T\r\n",
        "\r\n",
        "y_test_one_hot = np.zeros((10, Mtest))\r\n",
        "y_test_one_hot[y_test, np.array(list(range(Mtest)))] = 1\r\n",
        "y_test_one_hot = y_test_one_hot.T\r\n",
        "\r\n",
        "print(\"Number of images in the training set =\", M)\r\n",
        "print(\"Number of images in the test set =\", Mtest)\r\n",
        "print(\"Number of classes =\", num_classes)\r\n",
        "print(\"Number of features per example =\", num_features)"
      ],
      "execution_count": 8,
      "outputs": [
        {
          "output_type": "stream",
          "text": [
            "Number of images in the training set = 60000\n",
            "Number of images in the test set = 10000\n",
            "Number of classes = 10\n",
            "Number of features per example = 784\n"
          ],
          "name": "stdout"
        }
      ]
    },
    {
      "cell_type": "markdown",
      "metadata": {
        "id": "rYR7T7ZnYmBp"
      },
      "source": [
        "### Logging Sample Images"
      ]
    },
    {
      "cell_type": "code",
      "metadata": {
        "id": "dTcyI8f8V8kH"
      },
      "source": [
        "# Store the index of first occurrence of each class\r\n",
        "example_indices = [list(y_train).index(i) for i in range(num_classes)]\r\n",
        "\r\n",
        "# example_images is a list containing one sample image per class, example_captions stores the corresponsing captions\r\n",
        "example_images = []\r\n",
        "example_captions = []\r\n",
        "for index in example_indices:\r\n",
        "    example_images.append(X_train[index])\r\n",
        "    example_captions.append(class_names[y_train[index]])\r\n",
        "\r\n",
        "# Log one sample image of each class to wandb\r\n",
        "wandb.log({\"Sample Image from each class\": [wandb.Image(image, caption=caption) for image, caption in zip(example_images, example_captions)]})"
      ],
      "execution_count": 9,
      "outputs": []
    },
    {
      "cell_type": "markdown",
      "metadata": {
        "id": "YsNV-0oNwvTv"
      },
      "source": [
        "### Number of neurons in the input and output layers"
      ]
    },
    {
      "cell_type": "code",
      "metadata": {
        "id": "HMu1LWJAam8g"
      },
      "source": [
        "input_nodes = num_features\r\n",
        "output_nodes = num_classes"
      ],
      "execution_count": 10,
      "outputs": []
    },
    {
      "cell_type": "markdown",
      "metadata": {
        "id": "xczQae_C0Htr"
      },
      "source": [
        "### Activation Functions and Derivatives"
      ]
    },
    {
      "cell_type": "code",
      "metadata": {
        "id": "WNl7CMOD0HNJ"
      },
      "source": [
        "def tanh(x):\r\n",
        "    return np.tanh(x)\r\n",
        "\r\n",
        "def tanh_derivative(x):\r\n",
        "    # x is the tanh value\r\n",
        "    return (1 - (np.tanh(x)**2))\r\n",
        "\r\n",
        "def sigmoid(x):\r\n",
        "    return 1.0/(1+ np.exp(-x))\r\n",
        "\r\n",
        "def sigmoid_derivative(x):\r\n",
        "    return sigmoid(x) * (1.0 - sigmoid(x))\r\n",
        "\r\n",
        "def softmax(x):\r\n",
        "    \"\"\"Compute the softmax of vector x in a numerically stable way.\"\"\"\r\n",
        "    shiftx = x - np.max(x)\r\n",
        "    exps = np.exp(shiftx)\r\n",
        "    return exps / np.sum(exps)\r\n",
        "\r\n",
        "def ReLU(x):\r\n",
        "    return x * (x > 0)\r\n",
        "\r\n",
        "def ReLU_derivative(x):\r\n",
        "    return x>0"
      ],
      "execution_count": 11,
      "outputs": []
    },
    {
      "cell_type": "markdown",
      "metadata": {
        "id": "psuJOVx316Xo"
      },
      "source": [
        "### Loss Function and its derivatives"
      ]
    },
    {
      "cell_type": "code",
      "metadata": {
        "id": "0mGBJouA15ni"
      },
      "source": [
        "def crossentropyloss(y, y_hat):\r\n",
        "    \"\"\"Categorical cross-entropy loss\"\"\"\r\n",
        "    return -np.sum(y.reshape(y_hat.shape) * np.log(y_hat))\r\n",
        "\r\n",
        "def crossentropyloss_derivative(y, y_hat):\r\n",
        "    \"\"\"Derivative of the cross entropy loss\"\"\"\r\n",
        "    return -np.divide(y, y_hat)"
      ],
      "execution_count": 12,
      "outputs": []
    },
    {
      "cell_type": "markdown",
      "metadata": {
        "id": "YMulpov3736b"
      },
      "source": [
        "### Initialization"
      ]
    },
    {
      "cell_type": "code",
      "metadata": {
        "id": "2hRl4yBc7sX7"
      },
      "source": [
        "def initialize_parameters(layer_dims, initialization_option=\"random\"):\r\n",
        "    \"\"\"\r\n",
        "    This function is used to initialize the weights and biases of the network, using either 'random'\r\n",
        "    or 'xavier' or 'normal' initialization depending on the parameter: initialization_option\r\n",
        "\r\n",
        "    layer_dims is a list containing layer sizes (includes input and output layer).\r\n",
        "    \"\"\"\r\n",
        "    np.random.seed(42)\r\n",
        "    parameters = {} # Initialize parameter dictionary\r\n",
        "    \r\n",
        "    for i in range(1, len(layer_dims)):\r\n",
        "        if initialization_option==\"random\":\r\n",
        "          W = np.random.rand(layer_dims[i], layer_dims[i-1]) # uniform distribution\r\n",
        "\r\n",
        "        elif initialization_option == \"normal\":\r\n",
        "          W = np.random.randn(layer_dims[i], layer_dims[i-1]) # normal distribution\r\n",
        "\r\n",
        "        elif initialization_option==\"xavier\":\r\n",
        "          W = np.random.randn(layer_dims[i],layer_dims[i-1])*np.sqrt(2/(layer_dims[i]+layer_dims[i-1])) # glorot normal distribution / Xavier\r\n",
        "\r\n",
        "        # Initialize the biases with zeros\r\n",
        "        b = np.zeros((layer_dims[i], 1))\r\n",
        "        parameters[\"W\"+str(i)] = W\r\n",
        "        parameters[\"b\"+str(i)] = b\r\n",
        "    \r\n",
        "    return parameters"
      ],
      "execution_count": 13,
      "outputs": []
    },
    {
      "cell_type": "markdown",
      "metadata": {
        "id": "EcwQYdkJJbV-"
      },
      "source": [
        "### Forward Propagation"
      ]
    },
    {
      "cell_type": "code",
      "metadata": {
        "id": "rISPK7RsJhC9"
      },
      "source": [
        "def forward_propagation(X, parameters, batch_size=1, act_function=\"sigmoid\"):\r\n",
        "    \"\"\"\r\n",
        "    Given inputs X, it performs forward propagation and returns the output.\r\n",
        "    \"\"\"\r\n",
        "    L = len(layer_dims) # total number of layers\r\n",
        "    H = [None]*L # activations\r\n",
        "    A = [None]*L # pre-activations\r\n",
        "    H[0] = X.reshape((num_features, batch_size))\r\n",
        "    \r\n",
        "    for l in range(1, L):\r\n",
        "        W = parameters[\"W\"+str(l)]\r\n",
        "        b = parameters[\"b\"+str(l)]\r\n",
        "        A[l] = np.dot(W, H[l-1]) + b # Computes the pre-activation\r\n",
        "        if l == L-1:\r\n",
        "            H[l] = softmax(A[l]) # activation function for output layers\r\n",
        "        else:\r\n",
        "            if act_function==\"sigmoid\":\r\n",
        "                H[l] = sigmoid(A[l])\r\n",
        "            elif act_function==\"tanh\":\r\n",
        "                H[l] = tanh(A[l])\r\n",
        "            elif act_function==\"relu\":\r\n",
        "                H[l] = ReLU(A[l])\r\n",
        "            \r\n",
        "    output = H[L-1]\r\n",
        "            \r\n",
        "    return output, H, A"
      ],
      "execution_count": 14,
      "outputs": []
    },
    {
      "cell_type": "markdown",
      "metadata": {
        "id": "gMt-s-8PNwS1"
      },
      "source": [
        "### Backpropagation"
      ]
    },
    {
      "cell_type": "code",
      "metadata": {
        "id": "k5_DA--ytSIL"
      },
      "source": [
        "def backprop(y_hat, y, H, A, parameters, act_function=\"sigmoid\"):\r\n",
        "    gradients = {}\r\n",
        "\r\n",
        "    L = len(parameters)//2\r\n",
        "    \r\n",
        "    # Derivative of the loss function wrt A[L] \r\n",
        "    gradients[\"dA\"+str(L)] = y_hat - y.reshape(-1, 1)   \r\n",
        "\r\n",
        "    for l in range(L, 0, -1):\r\n",
        "        gradients[\"dW\"+str(l)] = np.dot(gradients[\"dA\"+str(l)], H[l-1].T)\r\n",
        "        gradients[\"db\"+str(l)] = gradients[\"dA\"+str(l)]\r\n",
        "        gradients[\"dH\"+str(l-1)] = np.dot(parameters[\"W\"+str(l)].T, gradients[\"dA\"+str(l)])\r\n",
        "\r\n",
        "        if l > 1:\r\n",
        "            if act_function==\"sigmoid\":\r\n",
        "                gradients[\"dA\"+str(l-1)] = np.multiply(gradients[\"dH\"+str(l-1)], sigmoid_derivative(A[l-1]))\r\n",
        "            elif act_function==\"tanh\":\r\n",
        "                gradients[\"dA\"+str(l-1)] = np.multiply(gradients[\"dH\"+str(l-1)], tanh_derivative(A[l-1]))\r\n",
        "            elif act_function==\"relu\":\r\n",
        "                gradients[\"dA\"+str(l-1)] = np.multiply(gradients[\"dH\"+str(l-1)], ReLU_derivative(A[l-1]))\r\n",
        "        \r\n",
        "    return gradients"
      ],
      "execution_count": 15,
      "outputs": []
    },
    {
      "cell_type": "markdown",
      "metadata": {
        "id": "OWgzQqPy1R9q"
      },
      "source": [
        "### Updating parameters"
      ]
    },
    {
      "cell_type": "code",
      "metadata": {
        "id": "vsU0RrF6zlFX"
      },
      "source": [
        "def update_parameters_sgd(parameters, grads, learning_rate):\r\n",
        "    L = len(parameters) // 2 # number of layers in the neural network\r\n",
        "\r\n",
        "    for l in range(1, L + 1):\r\n",
        "        parameters[\"W\" + str(l)] = parameters[\"W\" + str(l)] - learning_rate * grads[\"dW\" + str(l)]\r\n",
        "        parameters[\"b\" + str(l)] = parameters[\"b\" + str(l)] - learning_rate * grads[\"db\" + str(l)]\r\n",
        "\r\n",
        "    return parameters\r\n",
        "\r\n",
        "def update_parameters_momentum(parameters, grads, learning_rate, beta, previous_updates):\r\n",
        "    L = len(parameters) // 2 # number of layers in the neural network\r\n",
        "\r\n",
        "    for l in range(1, L + 1):\r\n",
        "        previous_updates[\"W\"+str(l)] = beta*previous_updates[\"W\"+str(l)] + (1-beta)*grads[\"dW\" + str(l)]\r\n",
        "        parameters[\"W\" + str(l)] = parameters[\"W\" + str(l)] - learning_rate*previous_updates[\"W\"+str(l)]\r\n",
        "        \r\n",
        "        previous_updates[\"b\"+str(l)] = beta*previous_updates[\"b\"+str(l)] + (1-beta)*grads[\"db\" + str(l)]\r\n",
        "        parameters[\"b\" + str(l)] = parameters[\"b\" + str(l)] - learning_rate*previous_updates[\"b\"+str(l)]\r\n",
        "\r\n",
        "    return parameters, previous_updates"
      ],
      "execution_count": 16,
      "outputs": []
    },
    {
      "cell_type": "code",
      "metadata": {
        "id": "6PKa0Q1e1v_G"
      },
      "source": [
        "def NN_model(X_train, y_train, X_test, y_test, layer_dims, learning_rate=0.001, beta=0.9,max_epochs=500):\r\n",
        "    parameters = initialize_parameters(layer_dims,\"xavier\")\r\n",
        "    \r\n",
        "    epoch_cost = [] # average training cost at the end of every epoch\r\n",
        "    \r\n",
        "    prev_epoch_cost = 100000 # some large initial value\r\n",
        "    curr_epoch_cost = 0\r\n",
        "    \r\n",
        "    validation_epoch_cost = [] # average validation cost at the end of every epoch\r\n",
        "    \r\n",
        "    count=1 # keeps track of the number of epochs\r\n",
        "    # An epoch is one complete pass through the training data\r\n",
        "\r\n",
        "    while abs(prev_epoch_cost-curr_epoch_cost) > 1e-7 and count<=max_epochs:\r\n",
        "        costs = []# training costs\r\n",
        "        val_costs = []# validation costs\r\n",
        "        count+=1# increment the number of epochs\r\n",
        "        for i in range(len(X_train)):\r\n",
        "            output, H, A = forward_propagation(X_train[i], parameters, act_function=\"sigmoid\")\r\n",
        "            cost = crossentropyloss(y_train[i], output)\r\n",
        "            gradients = backprop(output, y_train[i], H, A, parameters, act_function=\"sigmoid\")\r\n",
        "\r\n",
        "            # print(gradients)\r\n",
        "\r\n",
        "            parameters = update_parameters_sgd(parameters, gradients, learning_rate)\r\n",
        "\r\n",
        "            # parameters, previous_updates = update_parameters_momentum(\r\n",
        "            #                                                     parameters, gradients, learning_rate, beta,\r\n",
        "            #                                                     previous_updates)\r\n",
        "            costs.append(cost)\r\n",
        "            \r\n",
        "        # vaidation part (these examples do not contribute to parameter update)\r\n",
        "        # therefore, the 'model' has still not seen these examples.\r\n",
        "        for j in range(len(X_test)):\r\n",
        "            out, _, _ = forward_propagation(X_test[j], parameters)\r\n",
        "            cost = crossentropyloss(y_test[j], out)\r\n",
        "            val_costs.append(cost)\r\n",
        "            \r\n",
        "        # average training loss for one epoch\r\n",
        "        curr_epoch_cost = sum(costs)/len(X_train)\r\n",
        "        if len(epoch_cost) >= 1:\r\n",
        "            prev_epoch_cost = epoch_cost[-1]\r\n",
        "        epoch_cost.append(curr_epoch_cost)\r\n",
        "        print(\"Current_epoch cost =\", curr_epoch_cost)\r\n",
        "        # average validation loss for one epoch\r\n",
        "        validation_epoch_cost.append(sum(val_costs)/len(X_test))\r\n",
        "        \r\n",
        "    plot_cost_curve(epoch_cost, validation_epoch_cost)\r\n",
        "    return parameters, epoch_cost"
      ],
      "execution_count": 17,
      "outputs": []
    },
    {
      "cell_type": "markdown",
      "metadata": {
        "id": "Zt_1_w8yX9RU"
      },
      "source": [
        "#### Plot Cost Curve"
      ]
    },
    {
      "cell_type": "code",
      "metadata": {
        "id": "KedRZbF5X9x6"
      },
      "source": [
        "def plot_cost_curve(train_costs, val_costs):\r\n",
        "    plt.plot(list(range(len(train_costs))), train_costs, 'r', label=\"Training loss\")\r\n",
        "    plt.plot(list(range(len(val_costs))), val_costs, 'lime', label=\"Validation loss\")\r\n",
        "    plt.title(\"Training Loss vs Number of Epochs\", size=18)\r\n",
        "    plt.xlabel(\"Number of epochs\", size=14)\r\n",
        "    plt.ylabel(\"Loss\", size=14)\r\n",
        "    plt.grid()\r\n",
        "    plt.legend()\r\n",
        "    plt.show()"
      ],
      "execution_count": 18,
      "outputs": []
    },
    {
      "cell_type": "markdown",
      "metadata": {
        "id": "dvUhP11LHJZB"
      },
      "source": [
        "### Predictions and Accuracy"
      ]
    },
    {
      "cell_type": "code",
      "metadata": {
        "id": "XRX37lf7HI32"
      },
      "source": [
        "def predict(X, parameters):\r\n",
        "    # X here is one training example\r\n",
        "    pred, _, _ = forward_propagation(X, parameters)\r\n",
        "    return pred\r\n",
        "\r\n",
        "def predictions(X, parameters):\r\n",
        "    # X is an array of many training examples\r\n",
        "    y_pred = np.zeros(len(X))\r\n",
        "    for i in range(len(X)):\r\n",
        "        y_pred[i] = np.argmax(predict(X[i], parameters))\r\n",
        "    return y_pred\r\n",
        "        \r\n",
        "def model_accuracy(predictions, y_truth):\r\n",
        "    return np.mean(predictions == y_truth)*100"
      ],
      "execution_count": 19,
      "outputs": []
    },
    {
      "cell_type": "code",
      "metadata": {
        "id": "rsyX8YTHnApP"
      },
      "source": [
        "# Reshaping the array to 4-dims so that it can work with the Keras API\r\n",
        "X_train = X_train.reshape(X_train.shape[0], 28, 28, 1)\r\n",
        "X_test = X_test.reshape(X_test.shape[0], 28, 28, 1)\r\n",
        "input_shape = (28, 28, 1)\r\n",
        "# Making sure that the values are float so that we can get decimal points after division\r\n",
        "X_train = X_train.astype('float32')\r\n",
        "X_test = X_test.astype('float32')\r\n",
        "# Normalizing the RGB codes by dividing it to the max RGB value.\r\n",
        "X_train /= 255\r\n",
        "X_test /= 255\r\n",
        "\r\n",
        "# Standardize Here"
      ],
      "execution_count": 22,
      "outputs": []
    },
    {
      "cell_type": "code",
      "metadata": {
        "colab": {
          "base_uri": "https://localhost:8080/",
          "height": 639
        },
        "id": "b4sja1ytHUP-",
        "outputId": "94455d35-e722-4a5b-ce70-b4db8fc4b332"
      },
      "source": [
        "layer_dims = [input_nodes, 32, 32, 32, output_nodes]\r\n",
        "parameters, epoch_cost = NN_model(X_train, y_train_one_hot, X_test, y_test_one_hot, layer_dims, learning_rate=0.01, max_epochs=20)"
      ],
      "execution_count": 24,
      "outputs": [
        {
          "output_type": "stream",
          "text": [
            "Current_epoch cost = 1.0218743754545496\n",
            "Current_epoch cost = 0.5425026388026027\n",
            "Current_epoch cost = 0.44806773387393733\n",
            "Current_epoch cost = 0.40351624717352313\n",
            "Current_epoch cost = 0.37698617822801217\n",
            "Current_epoch cost = 0.3586052049920596\n",
            "Current_epoch cost = 0.3445674792872221\n",
            "Current_epoch cost = 0.333204286488785\n",
            "Current_epoch cost = 0.3237006916545765\n",
            "Current_epoch cost = 0.31567403470715294\n",
            "Current_epoch cost = 0.30863123897514466\n",
            "Current_epoch cost = 0.3022728333767004\n",
            "Current_epoch cost = 0.29637303675708637\n",
            "Current_epoch cost = 0.29086409014183007\n",
            "Current_epoch cost = 0.2857540673167312\n",
            "Current_epoch cost = 0.2808548955997404\n",
            "Current_epoch cost = 0.27630916147134854\n",
            "Current_epoch cost = 0.27222571572662047\n",
            "Current_epoch cost = 0.2681693464783418\n",
            "Current_epoch cost = 0.26411541647722364\n"
          ],
          "name": "stdout"
        },
        {
          "output_type": "display_data",
          "data": {
            "image/png": "[encoded data removed]",
            "text/plain": [
              "<Figure size 432x288 with 1 Axes>"
            ]
          },
          "metadata": {
            "tags": [],
            "needs_background": "light"
          }
        }
      ]
    },
    {
      "cell_type": "code",
      "metadata": {
        "colab": {
          "base_uri": "https://localhost:8080/"
        },
        "id": "v3nr2axRew7x",
        "outputId": "333dbd55-eb59-496c-d3f8-86e6860ac5bf"
      },
      "source": [
        "epoch_cost"
      ],
      "execution_count": 25,
      "outputs": [
        {
          "output_type": "execute_result",
          "data": {
            "text/plain": [
              "[1.0218743754545496,\n",
              " 0.5425026388026027,\n",
              " 0.44806773387393733,\n",
              " 0.40351624717352313,\n",
              " 0.37698617822801217,\n",
              " 0.3586052049920596,\n",
              " 0.3445674792872221,\n",
              " 0.333204286488785,\n",
              " 0.3237006916545765,\n",
              " 0.31567403470715294,\n",
              " 0.30863123897514466,\n",
              " 0.3022728333767004,\n",
              " 0.29637303675708637,\n",
              " 0.29086409014183007,\n",
              " 0.2857540673167312,\n",
              " 0.2808548955997404,\n",
              " 0.27630916147134854,\n",
              " 0.27222571572662047,\n",
              " 0.2681693464783418,\n",
              " 0.26411541647722364]"
            ]
          },
          "metadata": {
            "tags": []
          },
          "execution_count": 25
        }
      ]
    },
    {
      "cell_type": "code",
      "metadata": {
        "colab": {
          "base_uri": "https://localhost:8080/"
        },
        "id": "EVNG6uwgHZiZ",
        "outputId": "d77de9db-d518-413a-80e9-416be58ef6eb"
      },
      "source": [
        "y_pred_train = predictions(X_train, parameters)\r\n",
        "print(\"Training accuracy = {}%\".format(round(model_accuracy(y_pred_train,y_train), 3)))\r\n",
        "\r\n",
        "y_pred_test = predictions(X_test, parameters)\r\n",
        "print(\"Test accuracy = {}%\".format(round(model_accuracy(y_pred_test, y_test), 3)))"
      ],
      "execution_count": 26,
      "outputs": [
        {
          "output_type": "stream",
          "text": [
            "Training accuracy = 90.303%\n",
            "Test accuracy = 86.84%\n"
          ],
          "name": "stdout"
        }
      ]
    },
    {
      "cell_type": "code",
      "metadata": {
        "colab": {
          "base_uri": "https://localhost:8080/"
        },
        "id": "Xc_kCj24F9SC",
        "outputId": "3da00708-0025-4b0f-c39e-d6f44e68c1e9"
      },
      "source": [
        "y_pred_train"
      ],
      "execution_count": 27,
      "outputs": [
        {
          "output_type": "execute_result",
          "data": {
            "text/plain": [
              "array([9., 0., 0., ..., 3., 0., 5.])"
            ]
          },
          "metadata": {
            "tags": []
          },
          "execution_count": 27
        }
      ]
    },
    {
      "cell_type": "code",
      "metadata": {
        "id": "hXXfm4bTF_zS"
      },
      "source": [
        ""
      ],
      "execution_count": null,
      "outputs": []
    }
  ]
}