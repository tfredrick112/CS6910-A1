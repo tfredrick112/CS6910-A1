{
  "nbformat": 4,
  "nbformat_minor": 0,
  "metadata": {
    "colab": {
      "name": "Assignment 1 Deep Learning.ipynb",
      "provenance": [],
      "collapsed_sections": []
    },
    "kernelspec": {
      "display_name": "Python 3",
      "language": "python",
      "name": "python3"
    },
    "language_info": {
      "codemirror_mode": {
        "name": "ipython",
        "version": 3
      },
      "file_extension": ".py",
      "mimetype": "text/x-python",
      "name": "python",
      "nbconvert_exporter": "python",
      "pygments_lexer": "ipython3",
      "version": "3.7.1"
    }
  },
  "cells": [
    {
      "cell_type": "markdown",
      "metadata": {
        "id": "uPc_chlwW-SQ"
      },
      "source": [
        "#### Import libraries"
      ]
    },
    {
      "cell_type": "code",
      "metadata": {
        "id": "yFHth0FqepJf"
      },
      "source": [
        "import numpy as np\n",
        "import pandas as pd\n",
        "import matplotlib.pyplot as plt\n",
        "from keras.datasets import mnist, fashion_mnist\n",
        "from sklearn.model_selection import train_test_split\n",
        "from sklearn.metrics import classification_report, accuracy_score\n",
        "import warnings\n",
        "warnings.filterwarnings(\"ignore\")"
      ],
      "execution_count": 1,
      "outputs": []
    },
    {
      "cell_type": "markdown",
      "metadata": {
        "id": "3JTMduhnXH-I"
      },
      "source": [
        "#### Download data"
      ]
    },
    {
      "cell_type": "code",
      "metadata": {
        "id": "SVsYdhDPfD7F",
        "colab": {
          "base_uri": "https://localhost:8080/"
        },
        "outputId": "712d784c-7827-4923-959b-ccff01b5667e"
      },
      "source": [
        "(X, y), (X_test, y_test) = fashion_mnist.load_data()\r\n",
        "\r\n",
        "# Reshaping the data matrices\r\n",
        "X = X.reshape(X.shape[0], 784)\r\n",
        "X_test = X_test.reshape(X_test.shape[0], 784)\r\n",
        "\r\n",
        "# Normalizing the pixel intensities\r\n",
        "X = X/255.0\r\n",
        "X_test = X_test/255.0\r\n",
        "\r\n",
        "# Split the X_train into a training set and validation set\r\n",
        "X_train, X_val, y_train, y_val = train_test_split(X, y, test_size=0.1, random_state=42)"
      ],
      "execution_count": 2,
      "outputs": [
        {
          "output_type": "stream",
          "text": [
            "Downloading data from https://storage.googleapis.com/tensorflow/tf-keras-datasets/train-labels-idx1-ubyte.gz\n",
            "32768/29515 [=================================] - 0s 0us/step\n",
            "Downloading data from https://storage.googleapis.com/tensorflow/tf-keras-datasets/train-images-idx3-ubyte.gz\n",
            "26427392/26421880 [==============================] - 0s 0us/step\n",
            "Downloading data from https://storage.googleapis.com/tensorflow/tf-keras-datasets/t10k-labels-idx1-ubyte.gz\n",
            "8192/5148 [===============================================] - 0s 0us/step\n",
            "Downloading data from https://storage.googleapis.com/tensorflow/tf-keras-datasets/t10k-images-idx3-ubyte.gz\n",
            "4423680/4422102 [==============================] - 0s 0us/step\n"
          ],
          "name": "stdout"
        }
      ]
    },
    {
      "cell_type": "code",
      "metadata": {
        "colab": {
          "base_uri": "https://localhost:8080/"
        },
        "id": "f-pqLyGruxa2",
        "outputId": "20f184ba-199b-4a1b-c2fb-3696f0f9894d"
      },
      "source": [
        "# Number of training examples\r\n",
        "M = X_train.shape[0]\r\n",
        "\r\n",
        "# Number of validation samples\r\n",
        "Mval = X_val.shape[0]\r\n",
        "\r\n",
        "# Number of test examples\r\n",
        "Mtest = X_test.shape[0]\r\n",
        "\r\n",
        "# Number of features in the dataset\r\n",
        "num_features = 784\r\n",
        "\r\n",
        "# Number of classes\r\n",
        "num_classes = len(np.unique(y_train))\r\n",
        "\r\n",
        "# One hot encoding for class labels\r\n",
        "y_train_one_hot = np.zeros((10, M))\r\n",
        "y_train_one_hot[y_train, np.array(list(range(M)))] = 1\r\n",
        "# y_train_one_hot = y_train_one_hot.T\r\n",
        "\r\n",
        "y_val_one_hot = np.zeros((10, Mval))\r\n",
        "y_val_one_hot[y_val, np.array(list(range(Mval)))] = 1\r\n",
        "# y_val_one_hot = y_val_one_hot.T\r\n",
        "\r\n",
        "y_test_one_hot = np.zeros((10, Mtest))\r\n",
        "y_test_one_hot[y_test, np.array(list(range(Mtest)))] = 1\r\n",
        "# y_test_one_hot = y_test_one_hot.T\r\n",
        "\r\n",
        "print(\"Number of images in the training set =\", M)\r\n",
        "print(\"Number of images in the validation set =\", Mval)\r\n",
        "print(\"Number of images in the test set =\", Mtest)\r\n",
        "print(\"Number of classes =\", num_classes)\r\n",
        "print(\"Number of features per example =\", num_features)"
      ],
      "execution_count": 3,
      "outputs": [
        {
          "output_type": "stream",
          "text": [
            "Number of images in the training set = 54000\n",
            "Number of images in the validation set = 6000\n",
            "Number of images in the test set = 10000\n",
            "Number of classes = 10\n",
            "Number of features per example = 784\n"
          ],
          "name": "stdout"
        }
      ]
    },
    {
      "cell_type": "code",
      "metadata": {
        "id": "HgoEqEwYJ92M"
      },
      "source": [
        "# Modify shapes of the data matrices\r\n",
        "X_train = X_train.T\r\n",
        "X_val = X_val.T\r\n",
        "X_test = X_test.T"
      ],
      "execution_count": 4,
      "outputs": []
    },
    {
      "cell_type": "markdown",
      "metadata": {
        "id": "lmd4GRMVgBOf"
      },
      "source": [
        "#### Number of neurons in the input and output layers"
      ]
    },
    {
      "cell_type": "code",
      "metadata": {
        "id": "Inh6uUzA042P"
      },
      "source": [
        "input_nodes = num_features\r\n",
        "output_nodes = num_classes"
      ],
      "execution_count": 5,
      "outputs": []
    },
    {
      "cell_type": "markdown",
      "metadata": {
        "id": "Bo4ugAQGn6dm"
      },
      "source": [
        "#### Activation functions and their derivatives"
      ]
    },
    {
      "cell_type": "code",
      "metadata": {
        "id": "vpsINbUcepJn"
      },
      "source": [
        "def sigmoid(x):\n",
        "    return 1. / (1.+np.exp(-x))\n",
        "\n",
        "def sigmoid_derivative(x):\n",
        "    return sigmoid(x) * (1-sigmoid(x))\n",
        "\n",
        "def Relu(x):\n",
        "    return np.maximum(0,x)\n",
        "\n",
        "def Relu_derivative(x):\n",
        "    return 1*(x>0) \n",
        "\n",
        "def tanh(x):\n",
        "    return np.tanh(x)\n",
        "\n",
        "def tanh_derivative(x):\n",
        "    return (1 - (np.tanh(x)**2))\n",
        "\n",
        "def softmax(x):\n",
        "    return np.exp(x) / np.sum(np.exp(x), axis=0)\n",
        "\n",
        "def softmax_derivative(x):\n",
        "    return softmax(x) * (1-softmax(x))\n",
        "\n",
        "#cross-entropy for our cost function\n",
        "def compute_multiclass_loss(Y, Y_hat, batch_size, loss, lamb, parameters):\n",
        "\n",
        "    if loss == 'categorical_crossentropy':\n",
        "         L = (-1.0 * np.sum(np.multiply(Y, np.log(Y_hat))))/batch_size\n",
        "    elif loss == 'mse':\n",
        "         L = (1/2) * np.sum((Y-Y_hat)**2)/batch_size\n",
        "\n",
        "    acc = 0\n",
        "    for i in range(1, len(parameters)//2 + 1):\n",
        "        acc += np.sum(parameters[\"W\"+str(i)]**2)\n",
        "\n",
        "    L = L + (lamb/(2*batch_size))*acc\n",
        "\n",
        "    return L"
      ],
      "execution_count": 6,
      "outputs": []
    },
    {
      "cell_type": "markdown",
      "metadata": {
        "id": "OKtXzCYVn3VM"
      },
      "source": [
        "#### Initialize parameters"
      ]
    },
    {
      "cell_type": "code",
      "metadata": {
        "id": "Gx8zxiVlepJo"
      },
      "source": [
        "def initialize_parameters(layer_dims, init_mode=\"xavier\"):\n",
        "    np.random.seed(42)\n",
        "    params = {}\n",
        "    previous_updates = {}\n",
        "    for i in range(1, len(layer_dims)):\n",
        "        if init_mode == 'random_normal':\n",
        "            params[\"W\"+str(i)] = np.random.randn(layer_dims[i], layer_dims[i-1]) * 0.01\n",
        "        elif init_mode == 'random_uniform':\n",
        "            params[\"W\"+str(i)] = np.random.rand(layer_dims[i], layer_dims[i-1]) * 0.01\n",
        "        elif init_mode == 'xavier':\n",
        "            params[\"W\"+str(i)]= np.random.randn(layer_dims[i],layer_dims[i-1])*np.sqrt(2/(layer_dims[i]+layer_dims[i-1]))\n",
        "            \n",
        "        params[\"b\"+str(i)] = np.zeros((layer_dims[i], 1))\n",
        "        \n",
        "        previous_updates[\"W\"+str(i)] = np.zeros((layer_dims[i], layer_dims[i-1]))\n",
        "        previous_updates[\"b\"+str(i)] = np.zeros((layer_dims[i], 1))\n",
        "\n",
        "    return params,previous_updates"
      ],
      "execution_count": 7,
      "outputs": []
    },
    {
      "cell_type": "markdown",
      "metadata": {
        "id": "MnM9KkkynvUx"
      },
      "source": [
        "#### Forward Propagation"
      ]
    },
    {
      "cell_type": "code",
      "metadata": {
        "id": "DwdBYy5HepJp"
      },
      "source": [
        "def forward_propagate(X, params, activation_f):\n",
        "    L = len(params)//2 + 1\n",
        "    A = [None]*L # activations\n",
        "    Z = [None]*L # pre-activations\n",
        "    \n",
        "    A[0] = X\n",
        "    \n",
        "    for l in range(1, L):\n",
        "        W = params[\"W\"+str(l)]\n",
        "        b = params[\"b\"+str(l)]\n",
        "        \n",
        "        Z[l] = np.matmul(W,A[l-1]) + b\n",
        "        \n",
        "        if l == L-1:\n",
        "            A[l] = softmax(Z[l]) # activation function for output layer\n",
        "        else:\n",
        "            if activation_f == 'sigmoid':\n",
        "                A[l] = sigmoid(Z[l])\n",
        "            elif activation_f == 'relu':\n",
        "                A[l] = Relu(Z[l])\n",
        "            elif activation_f == 'tanh':\n",
        "                A[l] = tanh(Z[l])\n",
        "                \n",
        "    output = A[L-1]\n",
        "\n",
        "    return output,A,Z"
      ],
      "execution_count": 8,
      "outputs": []
    },
    {
      "cell_type": "markdown",
      "metadata": {
        "id": "oAyZE5YTnzhk"
      },
      "source": [
        "#### Backpropagation"
      ]
    },
    {
      "cell_type": "code",
      "metadata": {
        "id": "UMxm3roOepJp"
      },
      "source": [
        "def backprop(y_hat, y,A, Z, params, activation_f, batch_size, loss, lamb):\n",
        "    L = len(params)//2\n",
        "    gradients = {}\n",
        "    \n",
        "    if loss == 'categorical_crossentropy':\n",
        "        gradients[\"dZ\"+str(L)] = A[L]-y\n",
        "    elif loss == 'mse':\n",
        "        gradients[\"dZ\"+str(L)] = (A[L]-y) * softmax_derivative(Z[L])\n",
        "    \n",
        "    for l in range(L,0,-1):\n",
        "        gradients[\"dW\" + str(l)] = (np.dot(gradients[\"dZ\" + str(l)], A[l-1].T) + lamb*params[\"W\"+str(l)]) / batch_size\n",
        "        gradients[\"db\" + str(l)] = np.sum(gradients[\"dZ\" + str(l)], axis=1, keepdims=True) / batch_size\n",
        "        \n",
        "        if l>1:\n",
        "            if activation_f == 'sigmoid':\n",
        "                gradients[\"dZ\"+str(l-1)] = np.matmul(params[\"W\" + str(l)].T, gradients[\"dZ\" + str(l)]) * sigmoid_derivative(Z[l-1])\n",
        "            elif activation_f == 'relu':\n",
        "                gradients[\"dZ\"+str(l-1)] = np.matmul(params[\"W\" + str(l)].T, gradients[\"dZ\" + str(l)]) * Relu_derivative(Z[l-1])\n",
        "            elif activation_f == 'tanh':\n",
        "                gradients[\"dZ\"+str(l-1)] = np.matmul(params[\"W\" + str(l)].T, gradients[\"dZ\" + str(l)]) * tanh_derivative(Z[l-1])\n",
        "        \n",
        "    return gradients"
      ],
      "execution_count": 9,
      "outputs": []
    },
    {
      "cell_type": "markdown",
      "metadata": {
        "id": "ipONUamsndAv"
      },
      "source": [
        "#### Optimizers\r\n",
        "\r\n",
        "This block contains functions that implement stochastic gradient descent, momentum, RMSprop, Adam. Nadam and Nestorov accelerated gradient are implemented inside the NN_fit function."
      ]
    },
    {
      "cell_type": "code",
      "metadata": {
        "id": "voUasFGaepJq"
      },
      "source": [
        "def update_params_sgd(parameters,grads,learning_rate):\n",
        "    L = len(parameters) // 2 \n",
        "    \n",
        "    for l in range(1, L + 1):\n",
        "        parameters[\"W\" + str(l)] = parameters[\"W\" + str(l)] - learning_rate * grads[\"dW\" + str(l)]\n",
        "        parameters[\"b\" + str(l)] = parameters[\"b\" + str(l)] - learning_rate * grads[\"db\" + str(l)]\n",
        "\n",
        "    return parameters\n",
        "\n",
        "def update_parameters_momentum(parameters, grads, learning_rate, beta, previous_updates):\n",
        "    L = len(parameters) // 2 # number of layers in the neural network\n",
        "\n",
        "    for l in range(1, L + 1):\n",
        "        previous_updates[\"W\"+str(l)] = beta*previous_updates[\"W\"+str(l)] + (1-beta)*grads[\"dW\" + str(l)]\n",
        "        parameters[\"W\" + str(l)] = parameters[\"W\" + str(l)] - learning_rate*previous_updates[\"W\"+str(l)]\n",
        "        \n",
        "        previous_updates[\"b\"+str(l)] = beta*previous_updates[\"b\"+str(l)] + (1-beta)*grads[\"db\" + str(l)]\n",
        "        parameters[\"b\" + str(l)] = parameters[\"b\" + str(l)] - learning_rate*previous_updates[\"b\"+str(l)]\n",
        "\n",
        "    return parameters, previous_updates\n",
        "    \n",
        "def update_parameters_RMSprop(parameters, grads, learning_rate, beta, v):\n",
        "\n",
        "    L = len(parameters) // 2 # number of layers in the neural network\n",
        "    delta = 1e-6 # for numerical stability\n",
        "\n",
        "    for l in range(1, L + 1):\n",
        "        vdw = beta*v[\"W\" + str(l)] + (1-beta)*np.multiply(grads[\"dW\" + str(l)],grads[\"dW\" + str(l)])\n",
        "        vdb = beta*v[\"b\" + str(l)] + (1-beta)*np.multiply(grads[\"db\" + str(l)],grads[\"db\" + str(l)])\n",
        "\n",
        "        parameters[\"W\" + str(l)] = parameters[\"W\" + str(l)] - learning_rate * grads[\"dW\" + str(l)] / (np.sqrt(vdw)+delta)\n",
        "        parameters[\"b\" + str(l)] = parameters[\"b\" + str(l)] - learning_rate * grads[\"db\" + str(l)] / (np.sqrt(vdb)+delta)\n",
        "\n",
        "        v[\"W\" + str(l)] = vdw\n",
        "        v[\"b\" + str(l)] = vdb\n",
        "\n",
        "    return parameters,v\n",
        "\n",
        "def update_parameters_adam(parameters, grads, learning_rate, v, m, t):\n",
        "    L = len(parameters) // 2 # number of layers in the neural network\n",
        "    beta1 = 0.9\n",
        "    beta2 = 0.999\n",
        "    epsilon = 1e-8\n",
        "\n",
        "    for l in range(1, L+1):\n",
        "        mdw = beta1*m[\"W\"+str(l)] + (1-beta1)*grads[\"dW\"+str(l)]\n",
        "        vdw = beta2*v[\"W\"+str(l)] + (1-beta2)*np.square(grads[\"dW\"+str(l)])\n",
        "        mw_hat = mdw/(1.0 - beta1**t)\n",
        "        vw_hat = vdw/(1.0 - beta2**t)\n",
        "\n",
        "        parameters[\"W\"+str(l)] = parameters[\"W\"+str(l)] - (learning_rate * mw_hat)/np.sqrt(vw_hat + epsilon)\n",
        "\n",
        "        mdb = beta1*m[\"b\"+str(l)] + (1-beta1)*grads[\"db\"+str(l)]\n",
        "        vdb = beta2*v[\"b\"+str(l)] + (1-beta2)*np.square(grads[\"db\"+str(l)])\n",
        "        mb_hat = mdb/(1.0 - beta1**t)\n",
        "        vb_hat = vdb/(1.0 - beta2**t)\n",
        "\n",
        "        parameters[\"b\"+str(l)] = parameters[\"b\"+str(l)] - (learning_rate * mb_hat)/np.sqrt(vb_hat + epsilon)\n",
        "\n",
        "        v[\"dW\"+str(l)] = vdw\n",
        "        m[\"dW\"+str(l)] = mdw\n",
        "        v[\"db\"+str(l)] = vdb\n",
        "        m[\"db\"+str(l)] = mdb\n",
        "\n",
        "    t = t + 1 # timestep\n",
        "    return parameters, v, m, t"
      ],
      "execution_count": 10,
      "outputs": []
    },
    {
      "cell_type": "code",
      "metadata": {
        "id": "O8dH__MXepJr"
      },
      "source": [
        "def plot_cost_curve(train_costs, val_costs):\n",
        "    plt.plot(list(range(len(train_costs))), train_costs, 'r', label=\"Training loss\")\n",
        "    plt.plot(list(range(len(val_costs))), val_costs, 'lime', label=\"Validation loss\")\n",
        "    plt.title(\"Training and Validation Loss vs Number of Epochs\", size=16)\n",
        "    plt.xlabel(\"Number of epochs\", size=14)\n",
        "    plt.ylabel(\"Loss\", size=14)\n",
        "    plt.grid()\n",
        "    plt.legend()\n",
        "    plt.show()"
      ],
      "execution_count": 11,
      "outputs": []
    },
    {
      "cell_type": "markdown",
      "metadata": {
        "id": "JepLcxDFnTnS"
      },
      "source": [
        "#### Function to fit the model"
      ]
    },
    {
      "cell_type": "code",
      "metadata": {
        "id": "jeBfCkhEepJs"
      },
      "source": [
        "def NN_fit(X,y,X_val,y_val,layer_dims,learning_rate=0.01, activation_f='sigmoid', init_mode='xavier', optimizer = 'sgd', batch_size=512, loss = 'categorical_crossentropy', epochs=10, beta=0.9, L2_lamb=0):\n",
        "\n",
        "    params, previous_updates = initialize_parameters(layer_dims,init_mode)\n",
        "    \n",
        "    epoch_cost = []\n",
        "    validation_epoch_cost = []\n",
        "\n",
        "    params_look_ahead = params.copy() # initialization for nestorov\n",
        "    \n",
        "    count = 1\n",
        "\n",
        "    t = 1 # initialize timestep for Adam optimizer\n",
        "    v = previous_updates.copy()\n",
        "    m = previous_updates.copy()\n",
        "\n",
        "    while count<=epochs:\n",
        "        count = count + 1 # increment the number of epochs\n",
        "        for i in range(0, X.shape[1], batch_size):\n",
        "            batch_count = batch_size\n",
        "            if i + batch_size > X.shape[1]: # the last mini-batch might contain fewer than \"batch_size\" examples\n",
        "                batch_count = X.shape[1] - i + 1\n",
        "\n",
        "            if optimizer == 'nesterov':\n",
        "                # print(beta)\n",
        "                # print(L2_lambda)\n",
        "                L = len(params)//2\n",
        "                for l in range(1, L+1):\n",
        "                    params_look_ahead[\"W\"+str(l)] = params[\"W\"+str(l)] - beta*previous_updates[\"W\"+str(l)]\n",
        "                    params_look_ahead[\"b\"+str(l)] = params[\"b\"+str(l)] - beta*previous_updates[\"b\"+str(l)]\n",
        "                    \n",
        "                output,A,Z = forward_propagate(X[:,i:i+batch_size],params_look_ahead,activation_f)\n",
        "                gradients = backprop(output,y[:,i:i+batch_size],A,Z,params_look_ahead,activation_f, batch_count, loss, L2_lamb)\n",
        "                params,previous_updates = update_parameters_momentum(params, gradients, learning_rate, beta, previous_updates)\n",
        "                \n",
        "            elif optimizer=='nadam':\n",
        "                L = len(params)//2\n",
        "                for l in range(1, L+1):\n",
        "                    params_look_ahead[\"W\"+str(l)] = params[\"W\"+str(l)] - beta*previous_updates[\"W\"+str(l)]\n",
        "                    params_look_ahead[\"b\"+str(l)] = params[\"b\"+str(l)] - beta*previous_updates[\"b\"+str(l)]\n",
        "\n",
        "                output,A,Z = forward_propagate(X[:,i:i+batch_size],params_look_ahead,activation_f)\n",
        "                gradients = backprop(output,y[:,i:i+batch_size],A,Z,params_look_ahead,activation_f, batch_count, loss, L2_lamb)\n",
        "                params, v, m, t = update_parameters_adam(params, gradients, learning_rate, v, m, t)\n",
        "\n",
        "            else:\n",
        "                output,A,Z = forward_propagate(X[:,i:i+batch_size],params,activation_f)\n",
        "                gradients = backprop(output,y[:,i:i+batch_size],A,Z,params,activation_f, batch_count, loss, L2_lamb)\n",
        "\n",
        "                if optimizer == 'sgd':\n",
        "                    params = update_params_sgd(params,gradients,learning_rate)\n",
        "                elif optimizer == 'momentum':\n",
        "                    params,previous_updates = update_parameters_momentum(params, gradients, learning_rate, beta, previous_updates)\n",
        "                elif optimizer == 'RMSprop':\n",
        "                    params,previous_updates = update_parameters_RMSprop(params, gradients, learning_rate, beta, previous_updates)\n",
        "                elif optimizer == 'adam':\n",
        "                    params, v, m, t = update_parameters_adam(params, gradients, learning_rate, v, m, t)\n",
        "\n",
        "        # Mean loss for the full training set\n",
        "        full_output, _, _ = forward_propagate(X, params, activation_f)\n",
        "        cost = compute_multiclass_loss(y, full_output, M,loss, L2_lamb, params)\n",
        "        epoch_cost.append(cost)\n",
        "        \n",
        "        # Mean loss for the validation set\n",
        "        out, _, _ = forward_propagate(X_val, params, activation_f)\n",
        "        val_cost = compute_multiclass_loss(y_val, out, Mval,loss, L2_lamb, params)\n",
        "        validation_epoch_cost.append(val_cost)\n",
        "\n",
        "        if (count % 2 == 0):\n",
        "            print(\"Epoch number : {}\".format(count))\n",
        "            print(\"Training cost: \", cost, \"\\tValidation cost:\",val_cost)\n",
        "\n",
        "    print(\"\\nFinal training cost:\", cost)\n",
        "    \n",
        "    # Plot the training and validation cost curves\n",
        "    plot_cost_curve(epoch_cost, validation_epoch_cost)\n",
        "    \n",
        "    return params, epoch_cost"
      ],
      "execution_count": 12,
      "outputs": []
    },
    {
      "cell_type": "code",
      "metadata": {
        "id": "sAH95JS2epJt"
      },
      "source": [
        "def NN_predict(X_test, params, activation_f):\n",
        "    output, _, _ = forward_propagate(X_test, params, activation_f)\n",
        "    predictions = np.argmax(output, axis=0)\n",
        "    return predictions\n",
        "\n",
        "def NN_evaluate(X_train, y_train, X_test, y_test, params, activation_f):\n",
        "    train_predictions= NN_predict(X_train, params, activation_f)\n",
        "    test_predictions = NN_predict(X_test, params, activation_f)\n",
        "\n",
        "    print(\"Training accuracy = {} %\".format(round(accuracy_score(y_train, train_predictions) * 100), 3))\n",
        "    print(\"Test accuracy = {} %\".format(round(accuracy_score(y_test, test_predictions) * 100), 3))\n",
        "\n",
        "    print(\"Classification report for the test set:\\n\")\n",
        "    print(classification_report(y_test, test_predictions))"
      ],
      "execution_count": 13,
      "outputs": []
    },
    {
      "cell_type": "markdown",
      "metadata": {
        "id": "K4BS33z5fGxC"
      },
      "source": [
        "#### Setting Hyperparameters"
      ]
    },
    {
      "cell_type": "code",
      "metadata": {
        "id": "KeimiMDf2mjH"
      },
      "source": [
        "layer_dims= [input_nodes,64,64,output_nodes]\r\n",
        "LEARNING_RATE = 0.01\r\n",
        "ACTIVATION = \"tanh\"\r\n",
        "INITIALIZER = \"xavier\"\r\n",
        "OPTIMIZER = \"RMSprop\"\r\n",
        "BATCH_SIZE = 128\r\n",
        "LOSS = 'categorical_crossentropy'\r\n",
        "EPOCHS = 50\r\n",
        "BETA = 0.9\r\n",
        "L2_lambda = 0"
      ],
      "execution_count": 26,
      "outputs": []
    },
    {
      "cell_type": "markdown",
      "metadata": {
        "id": "BMCGMdn8fJd1"
      },
      "source": [
        "#### Training the model"
      ]
    },
    {
      "cell_type": "code",
      "metadata": {
        "colab": {
          "base_uri": "https://localhost:8080/",
          "height": 1000
        },
        "id": "BaT2hbHPe10a",
        "outputId": "438d2463-9cb4-43f3-a5d6-6d5e4690a9bf"
      },
      "source": [
        "learned_parameters, epoch_cost = NN_fit(X_train, y_train_one_hot, X_val, y_val_one_hot, layer_dims,\r\n",
        "                            learning_rate=LEARNING_RATE,\r\n",
        "                            activation_f = ACTIVATION,\r\n",
        "                            init_mode = INITIALIZER,\r\n",
        "                            optimizer = OPTIMIZER,\r\n",
        "                            batch_size = BATCH_SIZE,\r\n",
        "                            loss = LOSS,\r\n",
        "                            epochs = EPOCHS,\r\n",
        "                            beta = BETA,\r\n",
        "                            L2_lamb = L2_lambda)"
      ],
      "execution_count": 27,
      "outputs": [
        {
          "output_type": "stream",
          "text": [
            "Epoch number : 2\n",
            "Training cost:  0.5230674480428092 \tValidation cost: 0.5300457097083761\n",
            "Epoch number : 4\n",
            "Training cost:  0.4221027675900801 \tValidation cost: 0.450332581865339\n",
            "Epoch number : 6\n",
            "Training cost:  0.39440145186885484 \tValidation cost: 0.4254284332467785\n",
            "Epoch number : 8\n",
            "Training cost:  0.4152649870999991 \tValidation cost: 0.4427350218496815\n",
            "Epoch number : 10\n",
            "Training cost:  0.3662020848616784 \tValidation cost: 0.40659684404560564\n",
            "Epoch number : 12\n",
            "Training cost:  0.3639959872041472 \tValidation cost: 0.4002676753988165\n",
            "Epoch number : 14\n",
            "Training cost:  0.36824396209407434 \tValidation cost: 0.41260595268460776\n",
            "Epoch number : 16\n",
            "Training cost:  0.3889437689122067 \tValidation cost: 0.4366396891965923\n",
            "Epoch number : 18\n",
            "Training cost:  0.37836495951230603 \tValidation cost: 0.42479722138871134\n",
            "Epoch number : 20\n",
            "Training cost:  0.34727014024794434 \tValidation cost: 0.38796481115132\n",
            "Epoch number : 22\n",
            "Training cost:  0.3618487209695926 \tValidation cost: 0.41294174363124586\n",
            "Epoch number : 24\n",
            "Training cost:  0.34689650699628155 \tValidation cost: 0.3992625294567193\n",
            "Epoch number : 26\n",
            "Training cost:  0.34497573662406217 \tValidation cost: 0.40981602681047524\n",
            "Epoch number : 28\n",
            "Training cost:  0.3555628122953994 \tValidation cost: 0.41634892449620126\n",
            "Epoch number : 30\n",
            "Training cost:  0.33747122135631213 \tValidation cost: 0.40291577481437774\n",
            "Epoch number : 32\n",
            "Training cost:  0.3451571102136084 \tValidation cost: 0.4190084680958205\n",
            "Epoch number : 34\n",
            "Training cost:  0.33661019813245274 \tValidation cost: 0.4007575250393284\n",
            "Epoch number : 36\n",
            "Training cost:  0.33208540178347346 \tValidation cost: 0.3996724875685565\n",
            "Epoch number : 38\n",
            "Training cost:  0.33709581433719366 \tValidation cost: 0.39564725487339963\n",
            "Epoch number : 40\n",
            "Training cost:  0.34568895549069895 \tValidation cost: 0.40854691224723405\n",
            "Epoch number : 42\n",
            "Training cost:  0.33002583208991637 \tValidation cost: 0.3975152305762301\n",
            "Epoch number : 44\n",
            "Training cost:  0.3433107368200115 \tValidation cost: 0.41492932565853696\n",
            "Epoch number : 46\n",
            "Training cost:  0.35458502286442467 \tValidation cost: 0.42385665158944313\n",
            "Epoch number : 48\n",
            "Training cost:  0.338914928187766 \tValidation cost: 0.40220075715482784\n",
            "Epoch number : 50\n",
            "Training cost:  0.3382679285084905 \tValidation cost: 0.42273071167660925\n",
            "\n",
            "Final training cost: 0.34315349834289105\n"
          ],
          "name": "stdout"
        },
        {
          "output_type": "display_data",
          "data": {
            "image/png": "[encoded data removed]",
            "text/plain": [
              "<Figure size 432x288 with 1 Axes>"
            ]
          },
          "metadata": {
            "tags": [],
            "needs_background": "light"
          }
        }
      ]
    },
    {
      "cell_type": "markdown",
      "metadata": {
        "id": "woXJqKNsfLVa"
      },
      "source": [
        "#### Model Evaluation"
      ]
    },
    {
      "cell_type": "code",
      "metadata": {
        "colab": {
          "base_uri": "https://localhost:8080/"
        },
        "id": "wWj7qtnje7Sg",
        "outputId": "ae341639-162d-4c4b-c59a-6206317b1393"
      },
      "source": [
        "NN_evaluate(X_train, y_train, X_test, y_test, learned_parameters, ACTIVATION)"
      ],
      "execution_count": 28,
      "outputs": [
        {
          "output_type": "stream",
          "text": [
            "Training accuracy = 88 %\n",
            "Test accuracy = 84 %\n",
            "Classification report for the test set:\n",
            "\n",
            "              precision    recall  f1-score   support\n",
            "\n",
            "           0       0.85      0.70      0.77      1000\n",
            "           1       0.99      0.95      0.97      1000\n",
            "           2       0.77      0.71      0.74      1000\n",
            "           3       0.85      0.87      0.86      1000\n",
            "           4       0.69      0.79      0.74      1000\n",
            "           5       0.97      0.93      0.95      1000\n",
            "           6       0.60      0.65      0.62      1000\n",
            "           7       0.88      0.96      0.92      1000\n",
            "           8       0.93      0.96      0.95      1000\n",
            "           9       0.96      0.91      0.93      1000\n",
            "\n",
            "    accuracy                           0.84     10000\n",
            "   macro avg       0.85      0.84      0.84     10000\n",
            "weighted avg       0.85      0.84      0.84     10000\n",
            "\n"
          ],
          "name": "stdout"
        }
      ]
    },
    {
      "cell_type": "code",
      "metadata": {
        "id": "f4xvwwJrMqxF"
      },
      "source": [
        ""
      ],
      "execution_count": null,
      "outputs": []
    }
  ]
}